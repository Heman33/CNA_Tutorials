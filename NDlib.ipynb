{
 "cells": [
  {
   "cell_type": "markdown",
   "metadata": {
    "nbpresent": {
     "id": "d2c7bbf4-8ff2-4d52-bb77-18ee9fef0933"
    }
   },
   "source": [
    "<span>\n",
    "<img src=\"http://ndlib.readthedocs.io/en/latest/_static/ndlogo2.png\" width=\"260px\" align=\"right\"/>\n",
    "</span>\n",
    "<span>\n",
    "<b>Author:</b> <a href=\"http://about.giuliorossetti.net\">Giulio Rossetti</a><br/>\n",
    "<b>Python version:</b>  3.6<br/>\n",
    "<b>NDlib version:</b>  4.0.1<br/>\n",
    "<b>Last update:</b> 15/02/2018\n",
    "</span>"
   ]
  },
  {
   "cell_type": "markdown",
   "metadata": {
    "nbpresent": {
     "id": "9410d1a8-4b66-4e37-a3d9-8b6c8589fb46"
    }
   },
   "source": [
    "<a id='top'></a>\n",
    "# *Intro to NDlib: Network Diffusion library*\n",
    "\n",
    "``NDlib`` is a python library designed to provide support to analysis of diffusive phenomena occurring on top of complex network structures.\n",
    "\n",
    "In this notebook are introduced some of the main features of the library and an overview of its functionalities.\n",
    "\n",
    "**Note:** this notebook is purposely not 100% comprehensive, it only discusses the basic things you need to get started."
   ]
  },
  {
   "cell_type": "markdown",
   "metadata": {
    "nbpresent": {
     "id": "21707746-7149-4b56-a372-b897903c09ad"
    }
   },
   "source": [
    "## Table of Contents\n",
    "\n",
    "1. [Installing NDlib](#install)\n",
    "2. [Simulation Workflow](#workflow)\n",
    "    1. [Graph Creation](#graph)\n",
    "    2. [Model Selection and Configuration](#model)\n",
    "    3. [Simulation Execution](#simulation)\n",
    "    4. [Results Visualisation](#visual)\n",
    "3. [Available models](#models)\n",
    "    1. [Epidemics](#epidemics)\n",
    "    2. [Opinion Dynamics](#opinion)\n",
    "4. [Advanced Model Configurations](#advanced)\n",
    "    1. [Node Attributes](#nodes)\n",
    "    2. [Edge Attributes](#edges)\n",
    "    3. [Infection Seeds Selection](#seeds)\n",
    "        1. [Model Stability](#stability)\n",
    "        2. [Stability Visualisation](#stability_vis)\n",
    "5. [Comparing Diffusion models](#comparing)\n",
    "6. [Diffusion on Dynamic Networks](#dynamic)\n",
    "    1. [DynetX: a library for dynamic network modeling](#dynetx)\n",
    "        1. [Snapshot Graphs](#snapshots)\n",
    "        2. [Interaction Networks](#interactions)\n",
    "    2. [Available models](#models2)\n",
    "    3. [Example: SIR](#dynsir)\n",
    "7. [Custom Model Definition](#custom)\n",
    "    1. [Compartments](#compartments)\n",
    "        1. [Node compartments](#nc)\n",
    "        2. [Edge compartments](#ec)\n",
    "        3. [Time compartments](#tc)\n",
    "    2. [Compartments Composition](#composition)\n",
    "        1. [Cascading Composition](#cascading)\n",
    "        2. [Conditional Composition](#conditional)\n",
    "    3. [Example: SIR](#sir)\n",
    "8. [NDQL: Network Diffusion Query Language](#ndql)\n",
    "    1. [Syntax](#syntax)\n",
    "    2. [Command line tools](#cmd)\n",
    "    3. [Example: SIR](#sir2)\n",
    "9. [Conclusions](#conclusion)"
   ]
  },
  {
   "cell_type": "markdown",
   "metadata": {
    "nbpresent": {
     "id": "29b525b9-a5e1-4f09-8670-e3f5515eaf5e"
    }
   },
   "source": [
    "<a id='install'></a>\n",
    "## 1. Installing NDlib ([to top](#top))"
   ]
  },
  {
   "cell_type": "markdown",
   "metadata": {
    "nbpresent": {
     "id": "3512527f-fba1-4767-afe0-e440840d2140"
    }
   },
   "source": [
    "As a first step, we need to make sure that ``NDlib`` is installed and working.\n",
    "\n",
    "The library is available for both python 2.7 and 3.x, and its stable version can be installed using ``pip``:"
   ]
  },
  {
   "cell_type": "markdown",
   "metadata": {
    "nbpresent": {
     "id": "52f89477-51cf-403d-bd7f-cd96e9dfc62d"
    }
   },
   "source": [
    "    pip install ndlib"
   ]
  },
  {
   "cell_type": "markdown",
   "metadata": {
    "nbpresent": {
     "id": "3bc56bde-a391-4af5-8abe-7d2515507d65"
    }
   },
   "source": [
    "On the project [GitHub](https://github.com/GiulioRossetti/ndlib) are also available the nightly builds that can be installed as follows:"
   ]
  },
  {
   "cell_type": "markdown",
   "metadata": {
    "nbpresent": {
     "id": "d5b13b7a-411c-4e83-b686-6c52f8afce43"
    }
   },
   "source": [
    "    pip install git+https://github.com/GiulioRossetti/ndlib.git > /dev/null"
   ]
  },
  {
   "cell_type": "markdown",
   "metadata": {
    "nbpresent": {
     "id": "d256b3e0-a7b9-4280-b039-611b454c0bc8"
    }
   },
   "source": [
    "In order to check if ``ndlib`` has been correctly installed just try to import it"
   ]
  },
  {
   "cell_type": "code",
   "execution_count": null,
   "metadata": {
    "nbpresent": {
     "id": "7e934716-2cd5-41dc-94f1-e2bec1e46253"
    }
   },
   "outputs": [],
   "source": [
    "import ndlib"
   ]
  },
  {
   "cell_type": "markdown",
   "metadata": {
    "nbpresent": {
     "id": "f6ebc361-ba08-4c07-b6e4-70ea0553c85f"
    }
   },
   "source": [
    "<a id='workflow'></a>\n",
    "## 2. Simulation Workflow ([to top](#top))\n",
    "\n",
    "``Ndlib`` breaks the simulation of diffusive phenomena into a standard workflow:\n",
    "- Network Creation\n",
    "- Diffusion model Selection and Configuration\n",
    "- Simulation execution\n",
    "- Results visualisation\n",
    "\n",
    "In this section we will observe how to templating such workflow describing a simple *SIR* simulation.\n",
    "\n",
    "<img src=\"img/sir.pdf\"/>"
   ]
  },
  {
   "cell_type": "markdown",
   "metadata": {
    "nbpresent": {
     "id": "6a27ddf5-b22f-4a18-b356-c4ff88d262c6"
    }
   },
   "source": [
    "<a id=\"graph\"></a>\n",
    "### 2.A Graph object creation ([to top](#top))"
   ]
  },
  {
   "cell_type": "markdown",
   "metadata": {
    "nbpresent": {
     "id": "5bee6e13-4794-4da7-b48c-9d10fb6d93a2"
    }
   },
   "source": [
    "As a first step we need to define the network topology that will be used as playground to study diffusive phenomena.\n",
    "\n",
    "``NDlib`` leverage [``networkx``](https://networkx.github.io) data structure to provide support for both directed and undirected graphs.\n",
    "\n",
    "In this example, to perform our simulation, we instantiate a Erdos-Renyi graph as follows:"
   ]
  },
  {
   "cell_type": "code",
   "execution_count": null,
   "metadata": {
    "nbpresent": {
     "id": "bdb19eea-c3a3-4546-84c0-574217525f31"
    }
   },
   "outputs": [],
   "source": [
    "import networkx as nx\n",
    "\n",
    "g = nx.erdos_renyi_graph(1000, 0.1)"
   ]
  },
  {
   "cell_type": "markdown",
   "metadata": {
    "nbpresent": {
     "id": "edf7e27b-3601-4597-8b2f-c466ce03e4ca"
    }
   },
   "source": [
    "<a id=\"model\"></a>\n",
    "### 2.B Model Selection and Configuration ([to top](#top))\n",
    "\n",
    "After having defined the graph, we can select the diffusion model to simulate. In our example we import the SIR model and instantiate it on our graph."
   ]
  },
  {
   "cell_type": "code",
   "execution_count": null,
   "metadata": {
    "nbpresent": {
     "id": "8525a4f9-89f9-4861-8d29-59c8f57fdfe0"
    }
   },
   "outputs": [],
   "source": [
    "import ndlib.models.epidemics.SIRModel as sir\n",
    "\n",
    "model = sir.SIRModel(g)"
   ]
  },
  {
   "cell_type": "markdown",
   "metadata": {
    "nbpresent": {
     "id": "346fd5eb-6610-4bc0-b0b1-099755ceb514"
    }
   },
   "source": [
    "Every diffusion model has its own parameter, ``NDlib`` offers a common interface to specify them: ``ModelConfig``.\n",
    "``ModelConfig`` takes care of validating model parameters.\n",
    "\n",
    "Indeed, every model has its own parameters: model specific parameter list and definitions are available on the project [documentation site](http://ndlib.readthedocs.io).\n",
    "\n",
    "In order to get a description of the required parameters just access the ``parameter`` field"
   ]
  },
  {
   "cell_type": "code",
   "execution_count": null,
   "metadata": {
    "nbpresent": {
     "id": "c7a33f02-ca17-4f0f-9f39-771f0f963aa7"
    }
   },
   "outputs": [],
   "source": [
    "import json\n",
    "print(json.dumps(model.parameters, indent=2))"
   ]
  },
  {
   "cell_type": "markdown",
   "metadata": {
    "nbpresent": {
     "id": "bb1b20e8-1c45-4f32-9aed-286c5cf0c7e7"
    }
   },
   "source": [
    "Similarly, to obtain a list of the statuses implemented in the selected model just access the ``available_statuses`` field"
   ]
  },
  {
   "cell_type": "code",
   "execution_count": null,
   "metadata": {
    "nbpresent": {
     "id": "1bed3093-1658-4a8a-b66a-40b2dbc81936"
    }
   },
   "outputs": [],
   "source": [
    "model.available_statuses"
   ]
  },
  {
   "cell_type": "code",
   "execution_count": null,
   "metadata": {
    "nbpresent": {
     "id": "1519173d-12c9-422c-a9ec-04cf5b913912"
    }
   },
   "outputs": [],
   "source": [
    "import ndlib.models.ModelConfig as mc\n",
    "\n",
    "cfg = mc.Configuration()\n",
    "cfg.add_model_parameter('beta', 0.001) # infection rate\n",
    "cfg.add_model_parameter('gamma', 0.01) # recovery rate"
   ]
  },
  {
   "cell_type": "markdown",
   "metadata": {
    "nbpresent": {
     "id": "e2d56115-2cd3-4277-bd5c-77200170d4bc"
    }
   },
   "source": [
    "``ModelConfig`` also allows to describe the initial condition of the simulation. It makes possible, for instance, to specify the initial percentage of infected nodes in the network."
   ]
  },
  {
   "cell_type": "code",
   "execution_count": null,
   "metadata": {
    "nbpresent": {
     "id": "9305b01c-51cb-4b7e-ac43-d39e529d6632"
    }
   },
   "outputs": [],
   "source": [
    "cfg.add_model_parameter(\"percentage_infected\", 0.01)\n",
    "model.set_initial_status(cfg)"
   ]
  },
  {
   "cell_type": "markdown",
   "metadata": {
    "nbpresent": {
     "id": "a25dd06c-cff2-414a-9fe6-9cfa853a9d65"
    }
   },
   "source": [
    "<a id=\"simulation\"></a>\n",
    "### 2.C Simulation Execution ([to top](#top))\n",
    "\n",
    "Once described the network, the model and the initial conditions it is possible to perform the simulation.\n",
    "\n",
    "``NDlib`` models diffusive phenomena as **discrete-time**, **agent-based** processes: every iteration step all nodes are evaluated and, if their status is updated accordingly to the model rules.\n",
    "\n",
    "Iterations can be required (incrementally) by using two methods:\n",
    "- ``iteration()``\n",
    "- ``iteration_bunch(nbunch, node_status=False)``\n",
    "\n",
    "The former computes a single iteration step, the latter executes ``nbunch`` iterations. \n",
    "\n",
    "The ``node_status`` parameter allows to return the individual node status at each iteration."
   ]
  },
  {
   "cell_type": "code",
   "execution_count": null,
   "metadata": {
    "nbpresent": {
     "id": "8cb4dd67-b58f-4bae-82c8-e85d5c4ebd65"
    }
   },
   "outputs": [],
   "source": [
    "iterations = model.iteration_bunch(200, node_status=True)\n",
    "iterations"
   ]
  },
  {
   "cell_type": "markdown",
   "metadata": {
    "nbpresent": {
     "id": "9428e785-c5ce-4df3-992c-5863acef8aa6"
    }
   },
   "source": [
    "To abstract from iterations details it is possible to transform them into diffusion **trends** using the ``build_trends(iterations)`` method:"
   ]
  },
  {
   "cell_type": "code",
   "execution_count": null,
   "metadata": {
    "nbpresent": {
     "id": "0fe368c9-aee0-4f5f-a37a-a44557b21901"
    }
   },
   "outputs": [],
   "source": [
    "trends = model.build_trends(iterations)\n",
    "trends"
   ]
  },
  {
   "cell_type": "markdown",
   "metadata": {
    "nbpresent": {
     "id": "3f73d8fc-52c2-4d61-becb-40cb61b95e01"
    }
   },
   "source": [
    "<a id=\"top\"></a>\n",
    "###  2.D Results Visualisation ([to top](#top))\n",
    "\n",
    "Finally, ``NDlib`` allows to inspect the behavior of the simulated model using standard plots such as the ``DiffusionTrend`` and ``DiffusionPrevalence`` ones."
   ]
  },
  {
   "cell_type": "code",
   "execution_count": null,
   "metadata": {
    "nbpresent": {
     "id": "e99ca466-636e-41c6-92df-5c47e9e8f284"
    }
   },
   "outputs": [],
   "source": [
    "%matplotlib inline\n",
    "from ndlib.viz.mpl.DiffusionTrend import DiffusionTrend\n",
    "viz = DiffusionTrend(model, trends)\n",
    "viz.plot()"
   ]
  },
  {
   "cell_type": "code",
   "execution_count": null,
   "metadata": {
    "nbpresent": {
     "id": "1329a916-f0ee-426f-a543-c4e93c038fc5"
    }
   },
   "outputs": [],
   "source": [
    "from ndlib.viz.mpl.DiffusionPrevalence import DiffusionPrevalence\n",
    "viz = DiffusionPrevalence(model, trends)\n",
    "viz.plot()"
   ]
  },
  {
   "cell_type": "markdown",
   "metadata": {
    "nbpresent": {
     "id": "ccea099f-8005-4323-a95c-d62f233c22f8"
    }
   },
   "source": [
    "The proposed visualisation are realised using the [``matplotlib``](https://matplotlib.org) python library. They are fully customizable and all the metadata they visualize is gathered by the ``model`` object.\n",
    "\n",
    "To obtain web-oriented versions of such plots ``NDlib`` exposes a second visualisation endpoint built on top of [``bokeh``](https://bokeh.pydata.org/en/latest/): the plotting facilities its defines are collected within the sub-package ``ndlib.viz.bokeh`` and follow the same rationale of their ``matplotlib`` counterpart."
   ]
  },
  {
   "cell_type": "markdown",
   "metadata": {
    "nbpresent": {
     "id": "a9bd10e4-0421-4a26-a23f-89a7c4a6d40c"
    }
   },
   "source": [
    "<a id=\"models\"></a>\n",
    "## 3. Available models ([to top](#top))"
   ]
  },
  {
   "cell_type": "markdown",
   "metadata": {
    "nbpresent": {
     "id": "000e4199-f50b-4ea2-bbee-504ec2241ceb"
    }
   },
   "source": [
    "The analysis of diffusive phenomena that unfold on top of complex networks is a task able to attract growing interests from multiple fields of research.\n",
    "\n",
    "In order to provide a succinct framing of such complex and extensively studied problem it is possible to split the related literature into two broad, related, sub-classes: **Epidemics** and **Opinion Dynamics**."
   ]
  },
  {
   "cell_type": "markdown",
   "metadata": {
    "nbpresent": {
     "id": "7f7f36d3-bba7-41ee-aef9-178fffde0c92"
    }
   },
   "source": [
    "<a id=\"epidemics\"></a>\n",
    "### 3.A Epidemics ([to top](#top))\n",
    "\n",
    "When we talk about epidemics, we think about contagious diseases caused by biological pathogens, like influenza, measles, chickenpox and sexually transmitted viruses that spread from person to person. \n",
    "\n",
    "Several elements determine the patterns by which epidemics spread through groups of people: the properties carried by the pathogen (its contagiousness, the length of its infectious period and its severity), the structure of the network as well as the mobility patterns of the people involved. \n",
    "\n",
    "In ``NDlib`` are implemented the following 12 Epidemic models:"
   ]
  },
  {
   "cell_type": "markdown",
   "metadata": {
    "nbpresent": {
     "id": "14d28c55-bb33-4479-9fbc-3b988509315b"
    }
   },
   "source": [
    "<table>\n",
    "    <tr>\n",
    "        <td>[SI](http://ndlib.readthedocs.io/en/latest/reference/models/epidemics/SIm.html)</td>\n",
    "        <td>[SIS](http://ndlib.readthedocs.io/en/latest/reference/models/epidemics/SIS.html)</td>\n",
    "        <td>[SIR](http://ndlib.readthedocs.io/en/latest/reference/models/epidemics/SIR.html)</td>\n",
    "    </tr>\n",
    "    <tr>\n",
    "        <td>[SEIR](http://ndlib.readthedocs.io/en/latest/reference/models/epidemics/SEIR.html)</td>\n",
    "        <td>[SEIS](http://ndlib.readthedocs.io/en/latest/reference/models/epidemics/SEIS.html)</td>\n",
    "        <td>[SWIR](http://ndlib.readthedocs.io/en/latest/reference/models/epidemics/SWIR.html)</td>\n",
    "    </tr>\n",
    "    <tr>\n",
    "        <td>[Threshold](http://ndlib.readthedocs.io/en/latest/reference/models/epidemics/Threshold.html)</td>\n",
    "        <td>[Generalised Threshold](http://ndlib.readthedocs.io/en/latest/reference/models/epidemics/GeneralisedThreshold.html)</td>\n",
    "        <td>[Kertesz Threshold](http://ndlib.readthedocs.io/en/latest/reference/models/epidemics/KThreshold.html)</td>\n",
    "    </tr>\n",
    "    <tr>\n",
    "        <td>[Profile](http://ndlib.readthedocs.io/en/latest/reference/models/epidemics/Profile.html)</td>\n",
    "        <td>[Profile-Threshold](http://ndlib.readthedocs.io/en/latest/reference/models/epidemics/ProfileThreshold.html)</td>\n",
    "        <td>[Independent Cascades](http://ndlib.readthedocs.io/en/latest/reference/models/epidemics/IndependentCascades.html)</td>\n",
    "    </tr>\n",
    "</table>"
   ]
  },
  {
   "cell_type": "markdown",
   "metadata": {
    "nbpresent": {
     "id": "bdcdf439-7e48-45c9-9a31-f545cd7082a7"
    }
   },
   "source": [
    "<a id=\"opinions\"></a>\n",
    "### 3.B Opinion Dynamics ([to top](#top))\n",
    "\n",
    "A different field related with modelling social behaviour is that of opinion dynamics.\n",
    "\n",
    "Recent years have witnessed the introduction of a wide range of models that attempt to explain how opinions form in a population, taking into account various social theories (e.g. bounded confidence or social impact).\n",
    "\n",
    "These models have a lot in common with those seen in epidemics and spreading. In general, individuals are modelled as agents with a state and connected by a social network.\n",
    "\n",
    "The social links can be represented by a complete graph (*mean field* models) or by more realistic complex networks, similar to epidemics and spreading.\n",
    "\n",
    "The state is typically represented by variables, that can be *discrete* (similar to the case of spreading), but also *continuous*, representing for instance a probability to choose one option or another. The state of individuals changes in time, based on a set of update rules, mainly through interaction with the neighbours.\n",
    "\n",
    "While in many spreading and epidemics models this change is irreversible (susceptible to infected), in opinion dynamics the state can oscillate freely between the possible values, simulating thus how opinions change in reality.\n",
    "\n",
    "In ``NDlib`` are implemented the following 6 Opinion Dynamics models:"
   ]
  },
  {
   "cell_type": "markdown",
   "metadata": {
    "nbpresent": {
     "id": "f13e6790-2a8f-4245-9116-687e0fca0d78"
    }
   },
   "source": [
    "<table>\n",
    "    <tr>\n",
    "        <td>[Voter](http://ndlib.readthedocs.io/en/latest/reference/models/opinion/Voter.html)</td>\n",
    "        <td>[Q-Voter](http://ndlib.readthedocs.io/en/latest/reference/models/opinion/QVoter.html)</td>\n",
    "        <td>[Majority Rule](http://ndlib.readthedocs.io/en/latest/reference/models/opinion/MajorityRule.html)</td>\n",
    "    </tr>\n",
    "    <tr>\n",
    "        <td>[Sznajd](http://ndlib.readthedocs.io/en/latest/reference/models/opinion/Snajzd.html)</td>\n",
    "        <td>[Cognitive Opinion Dynamics](http://ndlib.readthedocs.io/en/latest/reference/models/opinion/COD.html)</td>\n",
    "        <td>[Algorithmic Bias](http://ndlib.readthedocs.io/en/latest/reference/models/opinion/AlgorithmicBias.html)</td>\n",
    "    </tr>\n",
    "</table>"
   ]
  },
  {
   "cell_type": "markdown",
   "metadata": {
    "nbpresent": {
     "id": "c9690abd-6b82-431b-847c-1c13ea64ef82"
    }
   },
   "source": [
    "<a id=\"advanced\"></a>\n",
    "## 4 Advanced Model Configurations ([to top](#top))\n",
    "\n",
    "As already discussed, the ``ModelConfig`` object is the common interface ``NDlib`` use to set up simulation experiments.\n",
    "\n",
    "``ModelConfig`` allows to specify four categories of experiment configurations:\n",
    "- **Model** configuration (as already discussed)\n",
    "- **Node** Configuration\n",
    "- **Edge** Configuration\n",
    "- Simulation **Initial Conditions**"
   ]
  },
  {
   "cell_type": "markdown",
   "metadata": {
    "nbpresent": {
     "id": "bd8f5f38-85d0-4670-ad44-7f72d9911956"
    }
   },
   "source": [
    "<a id=\"nodes\"></a>\n",
    "### 4.A Node Attributes ([to top](#top))\n",
    "\n",
    "Node configuration involves the instantiation of both the *mandatory* and *optional* parameters attached to individual nodes.\n",
    "\n",
    "Let's consider as an example the ``Threshold`` model. \n",
    "\n",
    "In such model a *susceptible* node in order to become *infected* needs that at least $\\tau\\%$ of its neighbors are already *infected*. \n",
    "\n",
    "We can assign a value of $\\tau\\%$ to every node as follows:"
   ]
  },
  {
   "cell_type": "code",
   "execution_count": null,
   "metadata": {
    "nbpresent": {
     "id": "efc80df0-5287-4721-80ef-6251b5c4f516"
    }
   },
   "outputs": [],
   "source": [
    "import ndlib.models.epidemics.ThresholdModel as th\n",
    "\n",
    "model = th.ThresholdModel(g)\n",
    "\n",
    "config = mc.Configuration()\n",
    "config.add_model_parameter('percentage_infected', 0.1)\n",
    "\n",
    "threshold = 0.25\n",
    "for i in g.nodes():\n",
    "    config.add_node_configuration(\"threshold\", i, threshold) # node attribute setting\n",
    "\n",
    "model.set_initial_status(config)"
   ]
  },
  {
   "cell_type": "markdown",
   "metadata": {
    "nbpresent": {
     "id": "c03c6a66-b052-4807-86bc-ac9c5a58ef9d"
    }
   },
   "source": [
    "<a id=\"edges\"></a>\n",
    "### 4.B Edge Attributes ([to top](#top)) \n",
    "\n",
    "Edge configuration involves the instantiation of both the *mandatory* and *optional* parameters attached to individual edges.\n",
    "\n",
    "Let's consider as an example the ``IndependentCascades`` model. \n",
    "\n",
    "In such model a *susceptible* node become *infected* with probability $p$, where $p$ is a value attached to the link connecting the *susceptible* node to an *infected* neighbor.\n",
    "\n",
    "We can assign a value of $p$ to every edge as follows:"
   ]
  },
  {
   "cell_type": "code",
   "execution_count": null,
   "metadata": {
    "nbpresent": {
     "id": "9bf3f682-408b-4dc5-92ad-37522958f0e6"
    }
   },
   "outputs": [],
   "source": [
    "import ndlib.models.epidemics.IndependentCascadesModel as ids\n",
    "\n",
    "model = ids.IndependentCascadesModel(g)\n",
    "\n",
    "config = mc.Configuration()\n",
    "config.add_model_parameter('percentage_infected', 0.1)\n",
    "\n",
    "threshold = 0.1\n",
    "for e in g.edges():\n",
    "    config.add_edge_configuration(\"threshold\", e, threshold) # edge attribute setting\n",
    "\n",
    "model.set_initial_status(config)"
   ]
  },
  {
   "cell_type": "markdown",
   "metadata": {
    "nbpresent": {
     "id": "696e1baf-ecd9-4023-bc9e-97b47457152f"
    }
   },
   "source": [
    "<a id=\"seeds\"></a>\n",
    "### 4.C Infection Seeds Selection ([to top](#top))\n",
    "\n",
    "Status configuration allows to specify explicitly the status of a set of nodes at the beginning of the simulation.\n",
    "\n",
    "So far we have assumed that a random sample of nodes (10% in our examples) were initially infected: in order to cover specifi simulation scenarios we can also explicitly *specify* the nodes belonging to each *status* at the beginning of the simulation."
   ]
  },
  {
   "cell_type": "code",
   "execution_count": null,
   "metadata": {
    "nbpresent": {
     "id": "7e7040d6-62ab-4455-891a-b622852735aa"
    }
   },
   "outputs": [],
   "source": [
    "import ndlib.models.ModelConfig as mc\n",
    "\n",
    "# Model Configuration\n",
    "config = mc.Configuration()\n",
    "\n",
    "infected_nodes = [0, 1, 2, 3, 4, 5]\n",
    "config.add_model_initial_configuration(\"Infected\", infected_nodes)"
   ]
  },
  {
   "cell_type": "markdown",
   "metadata": {
    "nbpresent": {
     "id": "c2adc5fc-0abe-4c82-9710-ed2fdeb498b4"
    }
   },
   "source": [
    "**NB:** Explicit status specification takes priority over the percentage specification expressed via model definition (e.g. percentage_infected)."
   ]
  },
  {
   "cell_type": "markdown",
   "metadata": {
    "nbpresent": {
     "id": "c6ecf5d8-7628-44dd-8378-8d88ebda4f5b"
    }
   },
   "source": [
    "<a id=\"stability\"></a>\n",
    "#### 4.C.a Model Stability ([to top](#top))\n",
    "\n",
    "Indeed, different initial conditions can affect the overall unfolding of the diffusive process.\n",
    "\n",
    "In order to analyse the stability of a model w.r.t. the initial seeds ``NDlib`` implements a ``multi_runs`` facility.\n",
    "\n",
    "``multi_runs`` allows the parallel execution of multiple instances of a given model starting from different initial infection conditions.\n",
    "\n",
    "We can instantiate ``multi_runs`` as follows:"
   ]
  },
  {
   "cell_type": "code",
   "execution_count": null,
   "metadata": {
    "nbpresent": {
     "id": "29974cb8-670b-41ad-b971-a6724156d22c"
    }
   },
   "outputs": [],
   "source": [
    "from ndlib.utils import multi_runs\n",
    "import warnings\n",
    "warnings.filterwarnings(\"ignore\")\n",
    "\n",
    "model = sir.SIRModel(g)\n",
    "config = mc.Configuration()\n",
    "config.add_model_parameter('beta', 0.001)\n",
    "config.add_model_parameter('gamma', 0.01)\n",
    "config.add_model_parameter(\"percentage_infected\", 0.05)\n",
    "model.set_initial_status(config)\n",
    "\n",
    "trends = multi_runs(model, execution_number=10, iteration_number=100, nprocesses=4)"
   ]
  },
  {
   "cell_type": "markdown",
   "metadata": {
    "nbpresent": {
     "id": "7ffbd058-8531-45bd-a881-03eb62ed2bd0"
    }
   },
   "source": [
    "In our example the initial seeds for each instance of the model were specified by the ``percentage_infected`` model parameter.\n",
    "\n",
    "Indeed we can also explicitly parametrize the seed sets as follows:"
   ]
  },
  {
   "cell_type": "code",
   "execution_count": null,
   "metadata": {
    "nbpresent": {
     "id": "bf34e091-0643-41c2-96da-31e16396f6a8"
    }
   },
   "outputs": [],
   "source": [
    "model = sir.SIRModel(g)\n",
    "\n",
    "config = mc.Configuration()\n",
    "config.add_model_parameter('beta', 0.001)\n",
    "config.add_model_parameter('gamma', 0.01)\n",
    "model.set_initial_status(config)\n",
    "\n",
    "infection_sets = [(1, 2, 3, 4, 5), (3, 23, 22, 54, 2), (98, 2, 12, 26, 3), (4, 6, 9) ]\n",
    "trends1 = multi_runs(model, execution_number=4, iteration_number=100, infection_sets=infection_sets, nprocesses=4)"
   ]
  },
  {
   "cell_type": "markdown",
   "metadata": {
    "nbpresent": {
     "id": "36a0a7ae-1fcc-46d0-814e-b80b2a7c5487"
    }
   },
   "source": [
    "<a id=\"stability_vis\"></a>\n",
    "#### 4.C.b Stability Visualisation ([to top](#top))\n",
    "\n",
    "Model stability can be easily analised by using the visualisation facilities offered by the library: both ``DiffusionTrend`` and ``DiffusionPrevalence`` plots alloes to plot mean trends along with their point-wise variation."
   ]
  },
  {
   "cell_type": "code",
   "execution_count": null,
   "metadata": {
    "nbpresent": {
     "id": "34df8d46-7ebe-4a2f-8f5e-d6f1872fa631"
    }
   },
   "outputs": [],
   "source": [
    "viz = DiffusionTrend(model, trends)\n",
    "viz.plot(percentile=90)"
   ]
  },
  {
   "cell_type": "code",
   "execution_count": null,
   "metadata": {
    "nbpresent": {
     "id": "94fa1df2-f659-4788-baca-ec3a37661630"
    }
   },
   "outputs": [],
   "source": [
    "viz = DiffusionPrevalence(model, trends)\n",
    "viz.plot(percentile=90)"
   ]
  },
  {
   "cell_type": "markdown",
   "metadata": {
    "nbpresent": {
     "id": "e152a844-f26c-4151-9aaf-276a41d5170d"
    }
   },
   "source": [
    "<a id=\"comparing\"></a>\n",
    "## 5. Comparing Diffusion models ([to top](#top))\n",
    "\n",
    "A common goal for which diffusion simulations are executed is to perform comparison among different models (or different instantiations of a same model).\n",
    "\n",
    "To address such demands ``NDlib`` provides visual comparison plots.\n",
    "\n",
    "To show how they work, as a first step we execute a second model (in this exampe an **SI** model) over our original graph."
   ]
  },
  {
   "cell_type": "code",
   "execution_count": null,
   "metadata": {
    "nbpresent": {
     "id": "83c9c8d8-c485-4b3e-a5c4-32fec616e3d2"
    }
   },
   "outputs": [],
   "source": [
    "import ndlib.models.epidemics.SIModel as si\n",
    "model1 = si.SIModel(g)\n",
    "cfg = mc.Configuration()\n",
    "cfg.add_model_parameter('beta', 0.001)\n",
    "cfg.add_model_parameter(\"percentage_infected\", 0.01)\n",
    "model1.set_initial_status(cfg)\n",
    "\n",
    "trends1 = multi_runs(model1, execution_number=10, iteration_number=100, nprocesses=4)"
   ]
  },
  {
   "cell_type": "markdown",
   "metadata": {
    "collapsed": true,
    "nbpresent": {
     "id": "eb42ef55-d83f-415e-ab46-34429f6b5253"
    }
   },
   "source": [
    "Then, we can compare them:"
   ]
  },
  {
   "cell_type": "code",
   "execution_count": null,
   "metadata": {
    "nbpresent": {
     "id": "8a64a937-c48d-4fbd-a344-3eba502fa205"
    }
   },
   "outputs": [],
   "source": [
    "from ndlib.viz.mpl.TrendComparison import DiffusionTrendComparison\n",
    "viz = DiffusionTrendComparison([model, model1], [trends, trends1], statuses=['Infected'])\n",
    "viz.plot()"
   ]
  },
  {
   "cell_type": "code",
   "execution_count": null,
   "metadata": {
    "nbpresent": {
     "id": "b0908a6c-0be3-448a-bd69-813efb85538f"
    }
   },
   "outputs": [],
   "source": [
    "from ndlib.viz.mpl.PrevalenceComparison import DiffusionPrevalenceComparison\n",
    "viz = DiffusionPrevalenceComparison([model, model1], [trends, trends1], statuses=['Infected'])\n",
    "viz.plot()"
   ]
  },
  {
   "cell_type": "markdown",
   "metadata": {
    "nbpresent": {
     "id": "72eae37f-eb5f-4c68-b553-98cd57ade290"
    }
   },
   "source": [
    "The method parameter ``statuses`` takes as input a list of the models statuses trends we want to compare.\n",
    "So, for instance, if we are interested in comparing both the trends for *Infected* and *Susceptible* nodes we can do something like this:"
   ]
  },
  {
   "cell_type": "code",
   "execution_count": null,
   "metadata": {
    "nbpresent": {
     "id": "4b067c6d-aae0-45f3-949b-3e16019becc0"
    }
   },
   "outputs": [],
   "source": [
    "from ndlib.viz.mpl.TrendComparison import DiffusionTrendComparison\n",
    "viz = DiffusionTrendComparison([model, model1], [trends, trends1], statuses=['Infected', 'Susceptible'])\n",
    "viz.plot()"
   ]
  },
  {
   "cell_type": "markdown",
   "metadata": {
    "nbpresent": {
     "id": "5444515e-f990-42c9-8d47-228e2dd6228d"
    }
   },
   "source": [
    "<a id=\"dynamic\"></a>\n",
    "## 6. Diffusion on Dynamic Networks ([to top](#top))\n",
    "\n",
    "So far we assumed that a *static* network topology. In real world scenario it is likely to observe nodes (as well as edges) that appear and desapear as time goes by, deeply affecting network structure and connectivity.\n",
    "\n",
    "Indeed, topological transformations have huge implications on how diffusive phenomena unfold. \n",
    "\n",
    "``NDlib`` leverages [``DyNetx``](http://dynetx.readthedocs.io/en/latest/) to model time-evolving graphs. In the following we briefly introduce some [``DyNetx``](http://dynetx.readthedocs.io/en/latest/) primitives that allows to build and analyse dynamic networks.\n",
    "\n",
    "A dynamic network is a topology having timestamps attached to edges (and/or nodes). As an example:\n",
    "\n",
    "<img src=\"img/rete.pdf\"/>"
   ]
  },
  {
   "cell_type": "markdown",
   "metadata": {
    "nbpresent": {
     "id": "273f25ce-7799-4ac2-9f53-cd7ff3f6ba0f"
    }
   },
   "source": [
    "<a id=\"dynetx\"></a>\n",
    "### 6.A DyNetX: a library for dynamic network modeling ([to top](#top))\n",
    "\n",
    "[``DyNetx``](http://dynetx.readthedocs.io/en/latest/) is a Python software package that extends [``networkx``](https://networkx.github.io) with dynamic network models and algorithms.\n",
    "\n",
    "We developed [``DyNetx``](http://dynetx.readthedocs.io/en/latest/) as a support library for ``NDlib`` simulation. It provides a generic implementation of dynamic network topology that can be used to model directed/undirected\n",
    "- [Snapshot Graphs](#snapshots)\n",
    "- [Interaction Networks](#interactions)\n",
    "\n",
    "In [``DyNetx``](http://dynetx.readthedocs.io/en/latest/) a generic dynamic graph can be built using:"
   ]
  },
  {
   "cell_type": "code",
   "execution_count": null,
   "metadata": {
    "nbpresent": {
     "id": "b1623c00-7e81-47a7-aa4b-adb1d3d8b619"
    }
   },
   "outputs": [],
   "source": [
    "import dynetx as dn\n",
    "\n",
    "g = dn.DynGraph() # empty dynamic graph\n",
    "\n",
    "g.add_interaction(u=1, v=2, t=0, e=2) # adding the edge (1,2) at t=0 that vanishes at time e=2\n",
    "g.add_interactions_from([(1, 4), (2, 5), (3, 1)], t=1) # adding some edges at time t=1\n",
    "g.add_interactions_from([(2, 6), (3, 2)], t=2) # adding some edges at time t=2\n",
    "g.add_interactions_from([(1, 5)], t=3) # adding some edges at time t=3"
   ]
  },
  {
   "cell_type": "markdown",
   "metadata": {
    "nbpresent": {
     "id": "246a6874-119c-4ca3-9f0a-3d9192b81f85"
    }
   },
   "source": [
    "<a id=\"snapshots\"></a>\n",
    "#### 6.A.a Snapshot Graphs ([to top](#top))\n",
    "\n",
    "Often, network history is partitioned into a series of snap- shots, each one of them corresponding either to the state of the network at a time $t$ or to the aggregation of observed interactions during a period. Formally,\n",
    "\n",
    "> A ``Snapshot Graph`` $G_t$ is defined by a temporally ordered set $⟨G_1, G_2\\dots G_t⟩$ of static graphs where each snapshot $G_i = (V_i, E_i)$ is univocally identified by the sets of nodes $V_i$ and edges $E_i$.\n",
    "\n",
    "Network snapshots can be effectively used, for instance, to model a phenomenon that generates network perturbations (almost) at regular intervals. In this scenario, context-dependent temporal windows are used to partition the network history into consecutive snapshots: time-bounded observations describing a precise, static, discretization of the network life.\n",
    "\n",
    "Considering our dynamic network example we can identify the following snapshot graphs:\n",
    "\n",
    "<img src=\"img/ex1.pdf\" width=\"35%\" align=\"left\"/><img src=\"img/ex2.pdf\" width=\"25%\" align=\"left\"/><img src=\"img/ex3.pdf\" width=\"35%\" align=\"left\"/>\n",
    "\n",
    "\n",
    "[``DyNetx``](http://dynetx.readthedocs.io/en/latest/) allows to (among the other things):\n",
    "- List the snapshots of the loaded graph"
   ]
  },
  {
   "cell_type": "code",
   "execution_count": null,
   "metadata": {
    "nbpresent": {
     "id": "32c90ef7-d369-41cf-874e-ed1ee42e0eb6"
    }
   },
   "outputs": [],
   "source": [
    "g.temporal_snapshots_ids()"
   ]
  },
  {
   "cell_type": "markdown",
   "metadata": {
    "nbpresent": {
     "id": "d1c5b478-a181-41f9-a187-c50a4ab4a6c2"
    }
   },
   "source": [
    "- Access a specific snapshot"
   ]
  },
  {
   "cell_type": "code",
   "execution_count": null,
   "metadata": {
    "nbpresent": {
     "id": "4a3c3856-ce1a-410b-bf8d-9ed46f4e0024"
    }
   },
   "outputs": [],
   "source": [
    "g1 = g.time_slice(1)\n",
    "g1.edges()"
   ]
  },
  {
   "cell_type": "markdown",
   "metadata": {
    "nbpresent": {
     "id": "860905f3-ca6d-449a-b48b-f8b3b956f262"
    }
   },
   "source": [
    "Moreover, snapshot graphs can also be read from/wite to file. For additional details refer to the official [documentation](http://dynetx.readthedocs.io/en/latest/index.html)."
   ]
  },
  {
   "cell_type": "markdown",
   "metadata": {
    "nbpresent": {
     "id": "f27a5517-1f54-483f-926e-ec1c78e301b8"
    }
   },
   "source": [
    "<a id=\"interactions\"></a>\n",
    "#### 6.A.b Interaction networks ([to top](#top))\n",
    "\n",
    "An ``Interaction network`` models a dynamic structure in which both nodes and edges may appear and disappear as time goes by. Usually, ``Intercation network`` are used in absence of a clear aggregation time scale, or when make sense to analyse a dynamic networok as a continuos stream of edges. Formally,\n",
    "\n",
    "> An ``interaction network`` is a graph $G = (V, E, T)$ where: $V$ is a set of triplets of the form $(v, t_s, t_e)$, with $v$ a vertex of the graph and $t_s$, $t_e \\in T$ are respectively the birth and death timestamps of the corresponding vertex (with $t_s \\leq t_e$); $E$ is a set of quadruplets $(u, v, t_s, t_e)$, with $u, v \\in V$ are vertices of the graph and $t_s,t_e \\in T$ are respectively the birth and death timestamps of the corresponding edge (with $t_s \\leq t_e$).\n",
    "\n",
    "Considering our dynamic network example we can identify the following interaction stream:\n",
    "\n",
    "<img src=\"img/ex4.pdf\"  />\n",
    "\n",
    "[``DyNetx``](http://dynetx.readthedocs.io/en/latest/) allows to to obtain the edge stream of a given dynamic graph."
   ]
  },
  {
   "cell_type": "code",
   "execution_count": null,
   "metadata": {
    "nbpresent": {
     "id": "6723d9a3-cf64-4878-a76e-623ee03854ab"
    }
   },
   "outputs": [],
   "source": [
    "for i in g.stream_interactions():\n",
    "    print(i)"
   ]
  },
  {
   "cell_type": "markdown",
   "metadata": {
    "nbpresent": {
     "id": "37371b56-1291-4287-bfb8-fcf022dcce42"
    }
   },
   "source": [
    "In the former representation: \n",
    "- the first two values identify the nodes involved in an edge\n",
    "- the third value identify the edge operation ('+' apparence, '-' vanishing)\n",
    "- the last value identify the timestamp\n",
    "\n",
    "Also ``interaction networks`` can be read from/wite to file. For additional details refer to the official [documentation](http://dynetx.readthedocs.io/en/latest/index.html)."
   ]
  },
  {
   "cell_type": "markdown",
   "metadata": {
    "nbpresent": {
     "id": "a3eab819-81a5-43f9-9e24-c5c0c5095f0d"
    }
   },
   "source": [
    "<a id=\"models2\"></a>\n",
    "### 6.B Available models ([to top](#top))\n",
    "\n",
    "As we have discussed, network topology may evolve as time goes by.\n",
    "\n",
    "In order to automatically leverage network dynamics ``NDlib`` enables the definition of diffusion models that work on ``Snapshot Graphs`` as well as on ``Interaction Networks``.\n",
    "\n",
    "In particular, so far, ``NDlib`` implements dynamic network versions of the following epidemic models:"
   ]
  },
  {
   "cell_type": "markdown",
   "metadata": {
    "nbpresent": {
     "id": "04e8b432-d50e-4e74-b43f-10d35a0a660d"
    }
   },
   "source": [
    "<table>\n",
    "    <tr>\n",
    "        <td>[SI](http://ndlib.readthedocs.io/en/latest/reference/models/dynamics/dSI.html)</td>\n",
    "        <td>[SIS](http://ndlib.readthedocs.io/en/latest/reference/models/dynamics/dSIS.html)</td>\n",
    "        <td>[SIR](http://ndlib.readthedocs.io/en/latest/reference/models/dynamics/dSIR.html)</td>\n",
    "    </tr>\n",
    "    <tr>\n",
    "        <td>[Profile](http://ndlib.readthedocs.io/en/latest/reference/models/dynamics/dProfile.html)</td>\n",
    "        <td>[Threshold](http://ndlib.readthedocs.io/en/latest/reference/models/dynamics/dProfileThreshold.html)</td>\n",
    "        <td>[Kertesz Threshold](http://ndlib.readthedocs.io/en/latest/reference/models/dynamics/dKThreshold.html)</td>\n",
    "    </tr>\n",
    "</table>"
   ]
  },
  {
   "cell_type": "markdown",
   "metadata": {
    "nbpresent": {
     "id": "f81d52f6-72f1-4e02-895c-294f91a1910d"
    }
   },
   "source": [
    "<a id=\"dynsir\"></a>\n",
    "### 6.C Example: SIR ([to top](#top))\n",
    "\n",
    "Let's instantiate a revised SIR model on a dynamic netework, first on ``snapshot graphs``..."
   ]
  },
  {
   "cell_type": "code",
   "execution_count": null,
   "metadata": {
    "nbpresent": {
     "id": "61d9a95d-694c-4a51-a5c5-e8493c7a5eb6"
    }
   },
   "outputs": [],
   "source": [
    "import ndlib.models.dynamic.DynSIModel as si\n",
    "\n",
    "# Dynamic Network topology\n",
    "dg = dn.DynGraph()\n",
    "\n",
    "# Naive synthetic dynamic graph \n",
    "# At each timestep t a new graph having the same set of node ids is created\n",
    "for t in range(0, 30):\n",
    "    g = nx.erdos_renyi_graph(200, 0.01)\n",
    "    dg.add_interactions_from(g.edges(), t)\n",
    "\n",
    "# Model selection\n",
    "model = si.DynSIModel(dg)\n",
    "\n",
    "# Model Configuration\n",
    "config = mc.Configuration()\n",
    "config.add_model_parameter('beta', 0.01)\n",
    "config.add_model_parameter(\"percentage_infected\", 0.1)\n",
    "model.set_initial_status(config)\n",
    "\n",
    "# Simulate snapshot based execution\n",
    "iterations = model.execute_snapshots()\n",
    "trends = model.build_trends(iterations)\n",
    "\n",
    "viz = DiffusionTrend(model, trends)\n",
    "viz.plot()"
   ]
  },
  {
   "cell_type": "markdown",
   "metadata": {
    "nbpresent": {
     "id": "a2b6da6d-a6b0-4c36-914b-c8a794ae8025"
    }
   },
   "source": [
    "then in ``interaction networks``"
   ]
  },
  {
   "cell_type": "code",
   "execution_count": null,
   "metadata": {
    "nbpresent": {
     "id": "4e669671-ea40-4b39-8c23-6161e95689c7"
    }
   },
   "outputs": [],
   "source": [
    "model = si.DynSIModel(dg)\n",
    "\n",
    "# Model Configuration\n",
    "config = mc.Configuration()\n",
    "config.add_model_parameter('beta', 0.01)\n",
    "config.add_model_parameter(\"percentage_infected\", 0.1)\n",
    "model.set_initial_status(config)\n",
    "\n",
    "# Simulation interaction graph based execution\n",
    "iterations = model.execute_iterations()\n",
    "trends = model.build_trends(iterations)\n",
    "\n",
    "viz = DiffusionTrend(model, trends)\n",
    "viz.plot()"
   ]
  },
  {
   "cell_type": "markdown",
   "metadata": {
    "nbpresent": {
     "id": "e4c37b2f-5ea8-499f-ac22-fa56132234a2"
    }
   },
   "source": [
    "We can easily observe that the model we adopt to describe network dynamics (``snapshot graphs`` or ``interaction networks``) deeply affects the unfolding of a same diffusive process over a given evolving graph."
   ]
  },
  {
   "cell_type": "markdown",
   "metadata": {
    "nbpresent": {
     "id": "c4386bf3-1d9d-49be-89d7-4e9297a549ab"
    }
   },
   "source": [
    "<a id=\"custom\"></a>\n",
    "## 7. Custom Model Definition ([to top](#top))\n",
    "\n",
    "``NDlib`` comes with a handy syntax for compositional (custom) model definition to support its users in designing novel diffusion models.\n",
    "\n",
    "At a higher level of abstraction a generic diffusion process can be described by two components:\n",
    "\n",
    "1. The nodes' ``statuses`` it exposes, and\n",
    "2. the ``transition rules`` that regulate status changes.\n",
    "\n",
    "We recall taht all models of ``NDlib`` assume an agent-based, discrete-time, simulation engine. \n",
    "\n",
    "During each simulation iteration all the nodes in the network are asked to \n",
    "1. evaluate their current status and to \n",
    "2. (eventually) apply a matching transition rule. \n",
    "\n",
    "A generic ``transition rule`` can be expressed with something like:"
   ]
  },
  {
   "cell_type": "markdown",
   "metadata": {
    "nbpresent": {
     "id": "560c2366-88b6-4dfa-b545-ead65a7c8744"
    }
   },
   "source": [
    "> **if** ``actual_node_status`` **and** ``condition`` **then** ``new_node_status``"
   ]
  },
  {
   "cell_type": "markdown",
   "metadata": {
    "nbpresent": {
     "id": "e53c17d4-1b13-4161-b96f-1dbb7c79476e"
    }
   },
   "source": [
    "The ``condition`` can be easily decomposed into the evaluation of atomic operations that we will call ``compartments``. The evaluation of a compartment can return either ``True`` (condition satisfied) or ``False`` (condition not satisfied).\n",
    "\n",
    "A simple ``condition`` is composed by a single ``compartment``.\n",
    "\n",
    "Indeed, several ``compartments`` can be described, each one of them capturing an atomic operation."
   ]
  },
  {
   "cell_type": "markdown",
   "metadata": {
    "nbpresent": {
     "id": "4ca11e96-1eb1-4123-a705-41012ffcf906"
    }
   },
   "source": [
    "A custom model, having three statuses (``Susceptible``, ``Infected``, ``Recovered``), can be instantiated as follows:"
   ]
  },
  {
   "cell_type": "code",
   "execution_count": null,
   "metadata": {
    "nbpresent": {
     "id": "418542af-5735-4c68-9b84-aabe78496ff9"
    }
   },
   "outputs": [],
   "source": [
    "import ndlib.models.CompositeModel as gc\n",
    "import ndlib.models.compartments.NodeStochastic as ns\n",
    "\n",
    "# Composite Model instantiation\n",
    "model = gc.CompositeModel(g)\n",
    "model.add_status(\"Susceptible\")\n",
    "model.add_status(\"Infected\")\n",
    "model.add_status(\"Recovered\")"
   ]
  },
  {
   "cell_type": "markdown",
   "metadata": {
    "nbpresent": {
     "id": "4c198280-5dfc-4bf1-816a-19150d308637"
    }
   },
   "source": [
    "<a id=\"compartments\"></a>\n",
    "### 7.A Compartments ([to top](#top))\n",
    "\n",
    "> *Which are the atomic conditions that can be used to define complex transition rules?*\n",
    "\n",
    "To answer such question we identified three families of ``compartments`` (and some operations to combine them)."
   ]
  },
  {
   "cell_type": "markdown",
   "metadata": {
    "nbpresent": {
     "id": "e0c2ef51-f35d-4c53-96dd-0ff4acd914f5"
    }
   },
   "source": [
    "<a id=\"nc\"></a>\n",
    "#### 7.A.a Node Compartments ([to top](#top))\n",
    "In this class fall all those compartments that evaluate conditions tied to node status/features. They model stochastic events as well as deterministic ones.\n",
    "\n",
    "<table>\n",
    "    <tr><td><b>Name</b></td><td><b>Use case</b></td><tr>\n",
    "    <tr>\n",
    "        <td>[Node Stochastic](http://ndlib.readthedocs.io/en/latest/custom/compartments/NodeStochastic.html)</td>\n",
    "        <td>Consider a rule that requires a **probability** $\\beta$ to be satisfied. </td>\n",
    "    </tr>\n",
    "    <tr>\n",
    "        <td>[Node Categorical Attribute](http://ndlib.readthedocs.io/en/latest/custom/compartments/NodeCategoricalAttribute.html)</td>\n",
    "        <td>Consider a rule that requires a specific value of a **categorical** node attribute to be satisfied (e.g. “Sex”=”male”).</td>\n",
    "    </tr>\n",
    "    <tr>\n",
    "        <td>[Node Numerical Attribute](http://ndlib.readthedocs.io/en/latest/custom/compartments/NodeNumericalAttribute.html)</td>\n",
    "        <td>Consider a rule that requires a specific value of a **numerical** node attribute to be satisfied (e.g. “Age” >= 18).</td>\n",
    "    </tr>\n",
    "    <tr>\n",
    "        <td>[Node Threshold](http://ndlib.readthedocs.io/en/latest/custom/compartments/NodeThreshold.html)</td>\n",
    "        <td>Consider a rule that requires that, at least, a **percentage** $\\beta$ of Infected neighbors for a node to be satisfied.</td>\n",
    "    </tr>\n",
    "</table>\n",
    "\n",
    "Let's add to our model a rule employing a node stochastic compartment:"
   ]
  },
  {
   "cell_type": "code",
   "execution_count": null,
   "metadata": {
    "nbpresent": {
     "id": "25732824-6459-41e9-a222-b7acf1aecbe5"
    }
   },
   "outputs": [],
   "source": [
    "import ndlib.models.compartments.NodeStochastic as ns\n",
    "\n",
    "# Compartment description\n",
    "c1 = ns.NodeStochastic(0.02, triggering_status=\"Infected\")\n",
    "\n",
    "# Rule definition\n",
    "model.add_rule(\"Susceptible\", \"Infected\", c1)"
   ]
  },
  {
   "cell_type": "markdown",
   "metadata": {
    "nbpresent": {
     "id": "c6d15e7b-8171-4ce9-bd79-096f46827a52"
    }
   },
   "source": [
    "The **Susceptble -> Infected** rule defined works as follows:\n",
    "- if a node $n$ is *susceptible*, and\n",
    "- if $n$ has at least an *infected* neighbor (``triggering_status``)\n",
    "- then, with probability $0.02$, $n$ status will shift to *infected*"
   ]
  },
  {
   "cell_type": "markdown",
   "metadata": {
    "nbpresent": {
     "id": "11070a54-9acc-4fee-af16-2998e2432de4"
    }
   },
   "source": [
    "<a id=\"ec\"></a>\n",
    "#### 7.A.b Edge Compartments ([to top](#top))\n",
    "In this class fall all those compartments that evaluate conditions tied to edge features. They model stochastic events as well as deterministic ones.\n",
    "\n",
    "\n",
    "<table>\n",
    "    <tr><td><b>Name</b></td><td><b>Use case</b></td><tr>\n",
    "    <tr>\n",
    "        <td>[Edge Stochastic](http://ndlib.readthedocs.io/en/latest/custom/compartments/EdgeStochastic.html)</td>\n",
    "        <td>Consider a rule tha requires a direct link among an infected node and a susceptible one and that is subject to a **probability** $\\beta$ tied to such edge.</td>\n",
    "    </tr>\n",
    "    <tr>\n",
    "        <td>[Edge Categorical Attribute](http://ndlib.readthedocs.io/en/latest/custom/compartments/EdgeCategoricalAttribute.html)</td>\n",
    "        <td>Consider a rule tha requires a link among an infected node and a susceptible one that has a specific **categorical** value (e.g. “type”=”co-worker”)</td>\n",
    "    </tr>\n",
    "    <tr>\n",
    "        <td>[Edge Numerical Attribute](http://ndlib.readthedocs.io/en/latest/custom/compartments/EdgeNumericalAttribute.html)</td>\n",
    "        <td>Consider a rule tha requires a link among an infected node and a susceptible one that has a specific **numerical** value (e.g. “weight”<3)</td>\n",
    "    </tr>  \n",
    "</table>\n",
    "\n",
    "Let's add to our model a rule employing an edge stochastic compartment:"
   ]
  },
  {
   "cell_type": "code",
   "execution_count": null,
   "metadata": {
    "nbpresent": {
     "id": "a5b4ec77-7feb-4f22-b163-b00a3c6ca255"
    }
   },
   "outputs": [],
   "source": [
    "import ndlib.models.compartments.EdgeStochastic as es\n",
    "\n",
    "c2 = es.EdgeStochastic(0.02, triggering_status=\"Recovered\")\n",
    "\n",
    "# Rule definition\n",
    "model.add_rule(\"Infected\", \"Recovered\", c2)"
   ]
  },
  {
   "cell_type": "markdown",
   "metadata": {
    "nbpresent": {
     "id": "03512ce9-3ee3-4984-b103-476707831f36"
    }
   },
   "source": [
    "The **Infected -> Recovered** rule defined works as follows:\n",
    "- if a node $n$ is *infected*, and\n",
    "- let $\\Gamma$ be the set containing the *recovered* (``triggering_status``) neighbors of $n$\n",
    "    - then for each node $v\\in \\Gamma$ with probability $0.02$, $n$ status will shift to *recovered*"
   ]
  },
  {
   "cell_type": "markdown",
   "metadata": {
    "nbpresent": {
     "id": "57b1e919-113f-4c4f-a95c-88eed24f9dbb"
    }
   },
   "source": [
    "<a id=\"tc\"></a>\n",
    "#### 7.A.c Time Compartments ([to top](#top))\n",
    "In this class fall all those compartments that evaluate conditions tied to temporal execution. They can be used to model, for instance, lagged events as well as triggered transitions.\n",
    "\n",
    "<table>\n",
    "    <tr><td><b>Name</b></td><td><b>Use case</b></td><tr>\n",
    "    <tr>\n",
    "        <td>[Count Down](http://ndlib.readthedocs.io/en/latest/custom/compartments/CountDown.html)</td>\n",
    "        <td>Consider a rule that has an **incubation** period of $t$ iterations.</td>\n",
    "    </tr>\n",
    "</table>\n",
    "\n",
    "\n",
    "Let's add to our model a rule employing a count down compartment"
   ]
  },
  {
   "cell_type": "code",
   "execution_count": null,
   "metadata": {
    "nbpresent": {
     "id": "f6954013-a642-4949-9573-5cd86a86afb2"
    }
   },
   "outputs": [],
   "source": [
    "import ndlib.models.compartments.CountDown as cd\n",
    "\n",
    "c3 = cd.CountDown(\"incubation\", iterations=10)\n",
    "\n",
    "# Rule definition\n",
    "model.add_rule(\"Recovered\", \"Susceptible\", c1)"
   ]
  },
  {
   "cell_type": "markdown",
   "metadata": {
    "nbpresent": {
     "id": "aa70551b-8f19-4c6f-8e90-7e3b135a489d"
    }
   },
   "source": [
    "The **Recovered -> Susceptible** rule defined works as follows:\n",
    "- if a node $n$ is *recovered* a count down named ``incubation`` is instantiated\n",
    "- during each iteration ``incubation`` is decremented\n",
    "- when ``incubation=0`` $n$ shifts to *susceptible*"
   ]
  },
  {
   "cell_type": "markdown",
   "metadata": {
    "nbpresent": {
     "id": "bad9d5cc-c2f5-4d24-8ecb-91f15563a1b3"
    }
   },
   "source": [
    "<a id=\"composition\"></a>\n",
    "### 7.B Compartments Composition ([to top](#top))\n",
    "\n",
    "Compartment can be chained in multiple ways so to describe complex transition rules. \n",
    "\n",
    "In particular, a transition rule can be seen as a tree whose nodes are compartments and edges connections among them.\n",
    "\n",
    "As an example consider the following picture describing the structure of a composite **Susceptible->Infected** transition rule."
   ]
  },
  {
   "cell_type": "markdown",
   "metadata": {
    "nbpresent": {
     "id": "5f9418d4-220f-4f32-aeca-202c3b9bb0ba"
    }
   },
   "source": [
    "<img src=\"img/rule.png\"/>"
   ]
  },
  {
   "cell_type": "markdown",
   "metadata": {
    "nbpresent": {
     "id": "f2ca9d5b-0b54-48e4-962e-b39a764c7d25"
    }
   },
   "source": [
    "- The initial node status is evaluated at the root of the tree (the master compartment)\n",
    "    - If the operation described by such compartment is satisfied the conditions of (one of) its child compartments is evaluated\n",
    "    - If a path from the root to one leaf of the tree is completely satisfied the transition rule applies and the node change its status.\n",
    "\n",
    "Compartments can be combined following two criteria:\n",
    "\n",
    "- Cascading Composition\n",
    "- Conditional Composition\n",
    "\n",
    "A ``transition rule`` can be defined by employing all possible combinations of cascading and conditional compartment composition."
   ]
  },
  {
   "cell_type": "markdown",
   "metadata": {
    "nbpresent": {
     "id": "c16e2c4d-83bc-4958-a7e9-92a87011e28c"
    }
   },
   "source": [
    "<a id=\"cascading\"></a>\n",
    "### 7.B.a Cascading Composition ([to top](#top))\n",
    "\n",
    "Since each compartment identifies an atomic condition it is natural to imagine rules described as chains of compartments.\n",
    "\n",
    "A compartment chain identify and ordered set of conditions that needs to be satisfied to allow status transition (it allows describing an **AND** logic).\n",
    "\n",
    "To implement such behaviour each compartment exposes a parameter (named ``composed``) that allows to specify the subsequent compartment to evaluate in case it condition is satisfied.\n",
    "\n",
    "#### Example\n",
    "\n",
    "In the following scenario the **Susceptible->Infected** rule is implemented using three NodeStochastic compartments chained as follows:\n",
    "\n",
    "$$C_1 \\rightarrow C_2 \\rightarrow C_3$$\n",
    "\n",
    "- If the node $n$ is *Susceptible*\n",
    " - $C_1$: if at least a neighbor of the actual node is *Infected*, with probability $0.5$ evaluate compartment $C_2$\n",
    " - $C_2$: with probability $0.4$ evaluate compartment $C_3$\n",
    " - $C_3$: with probability $0.2$ allow the transition to the *Infected* state"
   ]
  },
  {
   "cell_type": "code",
   "execution_count": null,
   "metadata": {
    "nbpresent": {
     "id": "3e1de5f8-a6ff-4a45-9a61-4931005f1e6b"
    }
   },
   "outputs": [],
   "source": [
    "# Network generation\n",
    "g = nx.erdos_renyi_graph(1000, 0.1)\n",
    "\n",
    "# Composite Model instantiation\n",
    "model = gc.CompositeModel(g)\n",
    "\n",
    "# Model statuses\n",
    "model.add_status(\"Susceptible\")\n",
    "model.add_status(\"Infected\")\n",
    "\n",
    "# Compartment definition and chain construction\n",
    "c3 = ns.NodeStochastic(0.2)\n",
    "c2 = ns.NodeStochastic(0.4, composed=c3)\n",
    "c1 = ns.NodeStochastic(0.5, \"Infected\", composed=c2)\n",
    "\n",
    "# Rule definition\n",
    "model.add_rule(\"Susceptible\", \"Infected\", c1)\n",
    "\n",
    "# Model initial status configuration\n",
    "config = mc.Configuration()\n",
    "config.add_model_parameter('percentage_infected', 0.1)\n",
    "\n",
    "# Simulation execution\n",
    "model.set_initial_status(config)\n",
    "iterations = model.iteration_bunch(100)\n",
    "\n",
    "trends = model.build_trends(iterations)\n",
    "viz = DiffusionTrend(model, trends)\n",
    "viz.plot()"
   ]
  },
  {
   "cell_type": "markdown",
   "metadata": {
    "nbpresent": {
     "id": "778456fc-636a-4c72-bd1e-498b2faf46e1"
    }
   },
   "source": [
    "<a id=\"conditional\"></a>\n",
    "### 7.B.a Conditional Composition ([to top](#top))\n",
    "\n",
    "Conditional compartment composition allows to describe rules as trees.\n",
    "\n",
    "A compartment tree identify and ordered and disjoint set of conditions that needs to be satisfied to allow status transition (it allows describing an **OR** logic).\n",
    "\n",
    "``ConditionalComposition`` compartment allows to describe branching pattern as follows:\n",
    "\n",
    "$$if\\ C_i then\\ C_j else\\ C_z$$\n",
    "\n",
    "``ConditionalComposition`` evaluate the guard compartment ($C_i$) and, depending from the result it gets (True or False) move to the evaluation of one of its two child compartments ($C_j$ and $C_z$).\n",
    "\n",
    "#### Example\n",
    "\n",
    "In the following scenario the **Susceptible->Infected** rule is implemented using three NodeStochastic compartments combined as follows:\n",
    "\n",
    "- If the node $n$ is *Susceptible*\n",
    "    - $C_1$: if at least a neighbor of the actual node is *Infected*, with probability $0.5$ evaluate compartment $C_2$ else evaluate compartment $C_3$\n",
    "        - $C_2$: with probability $0.2$ allow the transition to the *Infected* state\n",
    "        - $C_3$: with probability $0.1$ allow the transition to the *Infected* state\n"
   ]
  },
  {
   "cell_type": "code",
   "execution_count": null,
   "metadata": {
    "nbpresent": {
     "id": "edd9cad1-5539-41b9-90ef-392c49102118"
    }
   },
   "outputs": [],
   "source": [
    "import ndlib.models.compartments.ConditionalComposition as cif\n",
    "\n",
    "# Network generation\n",
    "g = nx.erdos_renyi_graph(1000, 0.1)\n",
    "\n",
    "# Composite Model instantiation\n",
    "model = gc.CompositeModel(g)\n",
    "\n",
    "# Model statuses\n",
    "model.add_status(\"Susceptible\")\n",
    "model.add_status(\"Infected\")\n",
    "\n",
    "# Compartment definition\n",
    "c1 = ns.NodeStochastic(0.5, \"Infected\")\n",
    "c2 = ns.NodeStochastic(0.2)\n",
    "c3 = ns.NodeStochastic(0.1)\n",
    "\n",
    "# Conditional Composition\n",
    "cc = cif.ConditionalComposition(c1, c2, c3)\n",
    "\n",
    "# Rule definition\n",
    "model.add_rule(\"Susceptible\", \"Infected\", cc)\n",
    "\n",
    "# Model initial status configuration\n",
    "config = mc.Configuration()\n",
    "config.add_model_parameter('percentage_infected', 0.1)\n",
    "\n",
    "# Simulation execution\n",
    "model.set_initial_status(config)\n",
    "iterations = model.iteration_bunch(30)\n",
    "trends = model.build_trends(iterations)\n",
    "\n",
    "viz = DiffusionTrend(model, trends)\n",
    "viz.plot()"
   ]
  },
  {
   "cell_type": "markdown",
   "metadata": {
    "nbpresent": {
     "id": "168b9b9a-7b3d-4fa5-8307-8ea107a5ef1a"
    }
   },
   "source": [
    "<a id=\"sir\"></a>\n",
    "### 7.C Example: SIR ([to top](#top)) \n",
    "\n",
    "Let's describe, and simulate, a **SIR** model using compartments."
   ]
  },
  {
   "cell_type": "code",
   "execution_count": null,
   "metadata": {
    "nbpresent": {
     "id": "a04b59c6-a262-4554-922e-4443dd86ec0a"
    }
   },
   "outputs": [],
   "source": [
    "from ndlib.models.CompositeModel import CompositeModel\n",
    "from ndlib.models.compartments.NodeStochastic import NodeStochastic\n",
    "\n",
    "# Network definition\n",
    "g1 = nx.erdos_renyi_graph(n=1000, p=0.1)\n",
    "\n",
    "# Model definition\n",
    "SIR = CompositeModel(g1)\n",
    "SIR.add_status('Susceptible')\n",
    "SIR.add_status('Infected')\n",
    "SIR.add_status('Removed')\n",
    "\n",
    "# Compartments\n",
    "c1 = NodeStochastic(triggering_status='Infected', rate=0.001, probability=1)\n",
    "c2 = NodeStochastic(rate=0.01, probability=1)\n",
    "\n",
    "# Rules\n",
    "SIR.add_rule('Susceptible', 'Infected', c1)\n",
    "SIR.add_rule('Infected', 'Removed', c2)\n",
    "\n",
    "# Configuration\n",
    "config = mc.Configuration()\n",
    "config.add_model_parameter('percentage_infected', 0.1)\n",
    "SIR.set_initial_status(config)\n",
    "\n",
    "# Simulation\n",
    "iterations = SIR.iteration_bunch(300, node_status=False)\n",
    "trends = SIR.build_trends(iterations)\n",
    "viz = DiffusionTrend(SIR, trends)\n",
    "viz.plot()"
   ]
  },
  {
   "cell_type": "markdown",
   "metadata": {
    "nbpresent": {
     "id": "d8cf489f-1a62-48ef-a44c-ea6a9181365e"
    }
   },
   "source": [
    "<a id=\"ndql\"></a>\n",
    "## 8. NDQL: Network Diffusion Query Language ([to top](#top))\n",
    "\n",
    "``NDlib`` aims to reach an heterogeneous audience composed by technicians as well as analysts. \n",
    "\n",
    "In order to abstract from the its programming interface we designed a query language to describe diffusion simulations, ``NDQL``."
   ]
  },
  {
   "cell_type": "markdown",
   "metadata": {
    "nbpresent": {
     "id": "4f3a90ce-4815-4a1d-bbeb-3c7ad2a2818d"
    }
   },
   "source": [
    "<a id=\"syntax\"></a>\n",
    "### 8.A Syntax ([to top](#top)) \n",
    "\n",
    "An ``NDQL`` script is composed of a minimum set of directives:\n",
    "\n",
    "1. Network specification:\n",
    "    - CREATE_NETWORK (-), LOAD_NETWORK (-)\n",
    "2. Model definition:\n",
    "    - MODEL, STATUS, COMPARTMENT (+), IF-THEN-ELSE (+), RULE,\n",
    "3. Model initialization and simulation execution\n",
    "    - INITIALIZE, EXECUTE\n",
    "\n",
    "Directives marked with (+) are optional while the ones marked with (-) are mutually exclusive w.r.t. their class.\n",
    "\n",
    "The complete language directive specification is the following:\n",
    "\n",
    "> **MODEL** model_name \n",
    "> \n",
    "> **STATUS** status_name\n",
    "> \n",
    "> **COMPARTMENT** compartment_name <br/>\n",
    "> **TYPE** compartment_type <br/>\n",
    "> **COMPOSE** compartment_name <br/>\n",
    "> [**PARAM** param_name numeric]+ <br/>\n",
    "> [**TRIGGER** status_name]\n",
    "> \n",
    "> **IF** compartment_name_1 **THEN** compartment_name_2 **ELSE** compartment_name_3 **AS** rule_name\n",
    "> \n",
    "> **RULE** rule_name <br/>\n",
    "> **FROM** status_name <br/>\n",
    "> **TO** status_name <br/>\n",
    "> **USING** compartment_name\n",
    "> \n",
    "> **INITIALIZE** <br/>\n",
    "> [**SET** status_name ratio]+\n",
    "> \n",
    "> **CREATE_NETWORK** network_name <br/>\n",
    "> **TYPE** network_type <br/>\n",
    "> [**PARAM** param_name numeric]+\n",
    ">\n",
    "> **LOAD_NETWORK** network_name **FROM** network_file\n",
    ">\n",
    "> **EXECUTE** model_name **ON** network_name **FOR** iterations\n",
    "\n",
    "The **CREATE_NETWORK** directive can take as network_type any [``networkx``](https://networkx.github.io) graph generator name (param_name are inherited from generator function parameters)."
   ]
  },
  {
   "cell_type": "markdown",
   "metadata": {
    "nbpresent": {
     "id": "33e400c8-4679-4979-84e8-d977b20549de"
    }
   },
   "source": [
    "<a id=\"cmd\"></a>\n",
    "### 8.B Command line tools ([to top](#top)) "
   ]
  },
  {
   "cell_type": "markdown",
   "metadata": {
    "nbpresent": {
     "id": "9c13b623-e83f-448b-b105-dbd744ee3888"
    }
   },
   "source": [
    "``NDlib`` installs two command line tools: \n",
    "- NDQL_translate \n",
    "- NDQL_execute\n",
    "\n",
    "The former command allows to translate a generic, well-formed, ``NDQL`` script into an equivalent Python one. <br/>\n",
    "It can be executed as\n",
    "\n",
    "> ``NDQL_translate`` query_file python_file\n",
    "\n",
    "where *query_file* identifies the target ``NDQL`` script and *python_file* specifies the desired name for the resulting Python script.\n",
    "\n",
    "The latter command allows to directly execute a generic, well-formed, ``NDQL`` script. <br/>\n",
    "It can be executed as\n",
    "\n",
    "> ``NDQL_execute`` query_file result_file\n",
    "\n",
    "where *query_file* identifies the target ``NDQL`` script and *result_file* specifies the desired name for the execution results. Execution results are saved as JSON files with the following syntax:\n",
    "\n",
    "[{\"trends\":<br/>\n",
    "   {\"node_count\": {\"0\": [270, 179, 15, 0, 0], \"1\": [30, 116, 273, 256, 239], \"2\": [0, 5, 12, 44, 61]},<br/>\n",
    "    \"status_delta\": {\"0\": [0, -91, -164, -15, 0], \"1\": [0, 86, 157, -17, -17], \"2\": [0, 5, 7, 32, 17]}},<br/>\n",
    "    \"Statuses\": {\"1\": \"Infected\", \"2\": \"Removed\", \"0\": \"Susceptible\"}<br/>\n",
    " }]\n",
    " \n",
    "where \n",
    "- ``node_count`` describes the trends built on the number of nodes per status \n",
    "- ``status_delta`` describe the trends built on the fluctuations of number of nodes per status \n",
    "- ``Statuses`` provides a map from numerical id to status name"
   ]
  },
  {
   "cell_type": "markdown",
   "metadata": {
    "nbpresent": {
     "id": "9366817a-e254-446a-acc3-459f57325ae8"
    }
   },
   "source": [
    "<a id=\"sir2\"></a>\n",
    "### 8.C Example: SIR ([to top](#top)) "
   ]
  },
  {
   "cell_type": "markdown",
   "metadata": {
    "nbpresent": {
     "id": "5eb813d1-a0f4-48ce-ac73-4bf89f11f2c0"
    }
   },
   "source": [
    "Let's describe a **SIR** model using ``NDQL``.\n",
    "\n",
    "#### Network creation\n",
    "\n",
    "> **CREATE_NETWORK** g1<br/>\n",
    "> **TYPE** erdos_renyi_graph<br/>\n",
    "> **PARAM** n 300<br/>\n",
    "> **PARAM** p 0.1\n",
    "\n",
    "#### Model definition \n",
    "\n",
    "> **MODEL** SIR\n",
    "> \n",
    "> **STATUS** Susceptible <br/>\n",
    "> **STATUS** Infected <br/>\n",
    "> **STATUS** Removed <br/>\n",
    "> \n",
    "> **COMPARTMENT** c1 <br/>\n",
    "> **TYPE** NodeStochastic<br/>\n",
    "> **PARAM** rate 0.1<br/>\n",
    "> **TRIGGER** Infected\n",
    "> \n",
    "> **COMPARTMENT** c2<br/>\n",
    "> **TYPE** NodeStochastic<br/>\n",
    "> **PARAM** rate 0.1\n",
    "> \n",
    "> **RULE**<br/>\n",
    "> **FROM** Susceptible<br/>\n",
    "> **TO** Infected<br/>\n",
    "> **USING** c1\n",
    "> \n",
    "> **RULE**<br/>\n",
    "> **FROM** Infected<br/>\n",
    "> **TO** Removed<br/>\n",
    "> **USING** c2\n",
    "\n",
    "#### Simulation initialization and execution\n",
    "\n",
    "> **INITIALIZE**<br/>\n",
    "> **SET** Infected 0.1<br/>\n",
    "> \n",
    "> **EXECUTE** SIR **ON** g1 **FOR** 100\n",
    "\n",
    "The complete query can be find in ``data/ndql_sir.txt``."
   ]
  },
  {
   "cell_type": "markdown",
   "metadata": {
    "nbpresent": {
     "id": "dd77cdb3-9443-49c2-be1f-5d9bf890b3ba"
    }
   },
   "source": [
    "In order to translate our query into the corresponding python script we can run"
   ]
  },
  {
   "cell_type": "code",
   "execution_count": null,
   "metadata": {
    "nbpresent": {
     "id": "88a0915e-37d2-4e28-953f-94f0e604e81a"
    }
   },
   "outputs": [],
   "source": [
    "!NDQL_translate data/ndql_sir.txt data/sir_g.py"
   ]
  },
  {
   "cell_type": "code",
   "execution_count": null,
   "metadata": {
    "nbpresent": {
     "id": "cb4b21c8-c884-4c34-a071-2adcc0f9c583"
    }
   },
   "outputs": [],
   "source": [
    "!python data/sir_g.py"
   ]
  },
  {
   "cell_type": "markdown",
   "metadata": {
    "nbpresent": {
     "id": "4b481601-e190-4359-a541-809eacddb7ec"
    }
   },
   "source": [
    "The translated script is then"
   ]
  },
  {
   "cell_type": "code",
   "execution_count": null,
   "metadata": {
    "nbpresent": {
     "id": "a3a08442-2cf5-452a-a366-92c0240fd0d5"
    }
   },
   "outputs": [],
   "source": [
    "with open(\"data/sir_g.py\") as f:\n",
    "    l = f.read()\n",
    "    print(l)"
   ]
  },
  {
   "cell_type": "markdown",
   "metadata": {
    "nbpresent": {
     "id": "bd098043-0eb5-4cff-8615-2ff87712f004"
    }
   },
   "source": [
    "In order to execute the query we can run"
   ]
  },
  {
   "cell_type": "code",
   "execution_count": null,
   "metadata": {
    "nbpresent": {
     "id": "6e76a5e5-a340-46c2-801b-0101dbaaab2f"
    }
   },
   "outputs": [],
   "source": [
    "!NDQL_execute data/ndql_sir.txt data/res.json"
   ]
  },
  {
   "cell_type": "markdown",
   "metadata": {
    "nbpresent": {
     "id": "3736aa2c-e373-4dc9-b66b-ad6acbaaee65"
    }
   },
   "source": [
    "As result we get"
   ]
  },
  {
   "cell_type": "code",
   "execution_count": null,
   "metadata": {
    "nbpresent": {
     "id": "3e028c60-fc4e-49d9-8c4c-1d80de6b5550"
    }
   },
   "outputs": [],
   "source": [
    "with open(\"data/res.json\") as f:\n",
    "    l = f.read()\n",
    "    print(l)"
   ]
  },
  {
   "cell_type": "markdown",
   "metadata": {
    "nbpresent": {
     "id": "04ab94e9-6b79-412d-996c-6c6f1b02f003"
    }
   },
   "source": [
    "<a id=\"conclusion\"></a>\n",
    "## 9. Conclusions ([to top](#top))\n"
   ]
  },
  {
   "cell_type": "markdown",
   "metadata": {
    "nbpresent": {
     "id": "d741d711-e149-4ace-8de4-51140fa190f8"
    }
   },
   "source": [
    "In this notebook we introduced the basic facilities offered by ``NDlib``.\n",
    "\n",
    "For any issue, suggestion, bug report feel free to contact us on the official [GitHub repository](https://github.com/GiulioRossetti/ndlib) of the project.\n",
    "\n",
    "Moreover, give also a look to [``NDlib-REST``](https://github.com/GiulioRossetti/ndlib-rest) and [``NDlib-viz``](https://github.com/rinziv/NDLib-Viz) the experiment server and web-based visual interface built on top of our library."
   ]
  },
  {
   "cell_type": "code",
   "execution_count": null,
   "metadata": {
    "nbpresent": {
     "id": "3b74b409-b3f4-41a2-8de2-6035e50f6424"
    }
   },
   "outputs": [],
   "source": []
  }
 ],
 "metadata": {
  "celltoolbar": "Slideshow",
  "kernelspec": {
   "display_name": "Python [conda env:Python36]",
   "language": "python",
   "name": "conda-env-Python36-py"
  },
  "language_info": {
   "codemirror_mode": {
    "name": "ipython",
    "version": 3
   },
   "file_extension": ".py",
   "mimetype": "text/x-python",
   "name": "python",
   "nbconvert_exporter": "python",
   "pygments_lexer": "ipython3",
   "version": "3.6.2"
  }
 },
 "nbformat": 4,
 "nbformat_minor": 1
}
