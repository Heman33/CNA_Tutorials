{
 "cells": [
  {
   "cell_type": "markdown",
   "metadata": {},
   "source": [
    "<span>\n",
    "<img src=\"http://ndlib.readthedocs.io/en/latest/_static/ndlogo2.png\" width=\"240px\" align=\"right\"/>\n",
    "</span>\n",
    "<span>\n",
    "<b>Author:</b> <a href=\"http://about.giuliorossetti.net\">Giulio Rossetti</a><br/>\n",
    "<b>Python version:</b>  3.6<br/>\n",
    "<b>NDlib version:</b>  4.0.1<br/>\n",
    "<b>Last update:</b> 15/02/2018\n",
    "</span>"
   ]
  },
  {
   "cell_type": "markdown",
   "metadata": {},
   "source": [
    "<a id='top'></a>\n",
    "# *Intro to NDlib-REST: Remote experiment definition and execution*\n",
    "\n",
    "[``NDlib``](http://ndlib.readthedocs.io) is a python library designed to provide support to analysis of diffusive phenomena occurring on top of complex network structures.\n",
    "\n",
    "[``NDlib-REST``](http://ndlib.readthedocs.io/en/latest/rest/ndlib-rest.html) is a restful server that allows to decouple experiment definition (client side) and execution (server side). \n",
    "\n",
    "In this notebook is introduced the python endpoint workflow to setup a diffusion experiment using the [``NDlib-REST``](http://ndlib.readthedocs.io/en/latest/rest/ndlib-rest.html) API.\n",
    "\n",
    "**Note:** this notebook is purposely not 100% comprehensive, it only discusses the basic things you need to get started."
   ]
  },
  {
   "cell_type": "markdown",
   "metadata": {},
   "source": [
    "## Table of Contents\n",
    "\n",
    "1. [Setup the Experiment Server](#install)\n",
    "2. [Experiment definition and execution](#workflow)"
   ]
  },
  {
   "cell_type": "markdown",
   "metadata": {},
   "source": [
    "<a id='install'></a>\n",
    "## 1. Setup the Experiment Server ([to top](#top))"
   ]
  },
  {
   "cell_type": "markdown",
   "metadata": {},
   "source": [
    "**1)** Move to the working directory"
   ]
  },
  {
   "cell_type": "code",
   "execution_count": 2,
   "metadata": {},
   "outputs": [],
   "source": [
    "!rm -rf ndlib-rest"
   ]
  },
  {
   "cell_type": "markdown",
   "metadata": {},
   "source": [
    "**2)** Clone the ``NDlib-REST`` server project from the project [GitHub](https://github.com/GiulioRossetti/ndlib-rest) "
   ]
  },
  {
   "cell_type": "code",
   "execution_count": 3,
   "metadata": {},
   "outputs": [
    {
     "name": "stdout",
     "output_type": "stream",
     "text": [
      "Cloning into 'ndlib-rest'...\n",
      "remote: Counting objects: 1299, done.\u001b[K\n",
      "remote: Compressing objects: 100% (11/11), done.\u001b[K\n",
      "remote: Total 1299 (delta 2), reused 5 (delta 2), pack-reused 1286\u001b[K\n",
      "Receiving objects: 100% (1299/1299), 8.21 MiB | 646.00 KiB/s, done.\n",
      "Resolving deltas: 100% (735/735), done.\n"
     ]
    }
   ],
   "source": [
    "!git clone https://github.com/GiulioRossetti/ndlib-rest.git > /dev/null"
   ]
  },
  {
   "cell_type": "markdown",
   "metadata": {},
   "source": [
    "**3)** Start the REST server"
   ]
  },
  {
   "cell_type": "code",
   "execution_count": 4,
   "metadata": {
    "scrolled": false
   },
   "outputs": [
    {
     "name": "stdout",
     "output_type": "stream",
     "text": [
      "/Volumes/DATA/git/SoBigData_courses/Network_diffusion_with_ndlib/ndlib-rest\n"
     ]
    },
    {
     "data": {
      "text/plain": [
       "0"
      ]
     },
     "execution_count": 4,
     "metadata": {},
     "output_type": "execute_result"
    }
   ],
   "source": [
    "%cd ndlib-rest/\n",
    "import subprocess as sub\n",
    "sub.call('./gunicorn.sh', shell=True)"
   ]
  },
  {
   "cell_type": "markdown",
   "metadata": {},
   "source": [
    "<a id='workflow'></a>\n",
    "## 2. Client for remote experiment setup ([to top](#top))"
   ]
  },
  {
   "cell_type": "markdown",
   "metadata": {},
   "source": [
    "``NDlibClient``, installed along with the REST server, provides a python wrapper around the endpont calls offered by ``NDlib-REST``. <br/>\n",
    "\n",
    "For endpoint parameters specs refer to the <a href=\"/docs\">Service API</a>."
   ]
  },
  {
   "cell_type": "code",
   "execution_count": 5,
   "metadata": {},
   "outputs": [],
   "source": [
    "from client.NDlibClient import NDlibClient"
   ]
  },
  {
   "cell_type": "markdown",
   "metadata": {},
   "source": [
    "**1)** Specify the base url of the server exposing the rest API"
   ]
  },
  {
   "cell_type": "code",
   "execution_count": 6,
   "metadata": {},
   "outputs": [],
   "source": [
    "exp = NDlibClient(\"http://127.0.0.1:5000\")"
   ]
  },
  {
   "cell_type": "markdown",
   "metadata": {},
   "source": [
    "**2)** Create an experiment"
   ]
  },
  {
   "cell_type": "code",
   "execution_count": 7,
   "metadata": {},
   "outputs": [],
   "source": [
    "exp.create_experiment()"
   ]
  },
  {
   "cell_type": "markdown",
   "metadata": {},
   "source": [
    "**3)** Add a graph resource to the experiment"
   ]
  },
  {
   "cell_type": "code",
   "execution_count": 8,
   "metadata": {},
   "outputs": [],
   "source": [
    "resp = exp.add_erdos_renyi_graph(1000, 0.1)"
   ]
  },
  {
   "cell_type": "markdown",
   "metadata": {},
   "source": [
    "**4)** Add one or more diffusion models to the experiment"
   ]
  },
  {
   "cell_type": "code",
   "execution_count": 9,
   "metadata": {},
   "outputs": [],
   "source": [
    "resp = exp.add_SIR(infected=0.01, beta=0.001, gamma=0.09)"
   ]
  },
  {
   "cell_type": "markdown",
   "metadata": {},
   "source": [
    "**5)** Execute the simulation"
   ]
  },
  {
   "cell_type": "code",
   "execution_count": 10,
   "metadata": {},
   "outputs": [],
   "source": [
    "it = exp.get_iteration_bunch(bunch=15)"
   ]
  },
  {
   "cell_type": "markdown",
   "metadata": {},
   "source": [
    "**6)** Analyze the results"
   ]
  },
  {
   "cell_type": "code",
   "execution_count": 11,
   "metadata": {},
   "outputs": [],
   "source": [
    "models = it.keys()"
   ]
  },
  {
   "cell_type": "code",
   "execution_count": 12,
   "metadata": {},
   "outputs": [
    {
     "name": "stdout",
     "output_type": "stream",
     "text": [
      "Model: SIR_0\n",
      "\n",
      "Iteration: 0\t Infected: 10\t Susceptible: 990\t Removed: 0\n",
      "Iteration: 1\t Infected: 13\t Susceptible: 987\t Removed: 0\n",
      "Iteration: 2\t Infected: 11\t Susceptible: 986\t Removed: 3\n",
      "Iteration: 3\t Infected: 11\t Susceptible: 985\t Removed: 4\n",
      "Iteration: 4\t Infected: 10\t Susceptible: 985\t Removed: 5\n",
      "Iteration: 5\t Infected: 11\t Susceptible: 983\t Removed: 6\n",
      "Iteration: 6\t Infected: 10\t Susceptible: 983\t Removed: 7\n",
      "Iteration: 7\t Infected: 11\t Susceptible: 980\t Removed: 9\n",
      "Iteration: 8\t Infected: 11\t Susceptible: 979\t Removed: 10\n",
      "Iteration: 9\t Infected: 11\t Susceptible: 979\t Removed: 10\n",
      "Iteration: 10\t Infected: 14\t Susceptible: 975\t Removed: 11\n",
      "Iteration: 11\t Infected: 12\t Susceptible: 975\t Removed: 13\n",
      "Iteration: 12\t Infected: 11\t Susceptible: 975\t Removed: 14\n",
      "Iteration: 13\t Infected: 13\t Susceptible: 973\t Removed: 14\n",
      "Iteration: 14\t Infected: 13\t Susceptible: 973\t Removed: 14\n"
     ]
    }
   ],
   "source": [
    "for m in models:\n",
    "    print(\"Model: %s\\n\" % m)\n",
    "    for i in range(0, len(it[m])):\n",
    "        print(\"Iteration: %s\\t Infected: %s\\t Susceptible: %s\\t Removed: %s\" % (it[m][i]['iteration'], \n",
    "         it[m][i]['node_count']['1'], \n",
    "         it[m][i]['node_count']['0'], \n",
    "         it[m][i]['node_count']['2']))"
   ]
  },
  {
   "cell_type": "markdown",
   "metadata": {},
   "source": [
    "**7)** Destroy the experiment and free the assigned resources"
   ]
  },
  {
   "cell_type": "code",
   "execution_count": 13,
   "metadata": {},
   "outputs": [],
   "source": [
    "resp = exp.destroy_experiment()"
   ]
  },
  {
   "cell_type": "code",
   "execution_count": null,
   "metadata": {
    "collapsed": true
   },
   "outputs": [],
   "source": []
  }
 ],
 "metadata": {
  "kernelspec": {
   "display_name": "Python [conda env:Python36]",
   "language": "python",
   "name": "conda-env-Python36-py"
  },
  "language_info": {
   "codemirror_mode": {
    "name": "ipython",
    "version": 3
   },
   "file_extension": ".py",
   "mimetype": "text/x-python",
   "name": "python",
   "nbconvert_exporter": "python",
   "pygments_lexer": "ipython3",
   "version": "3.6.2"
  }
 },
 "nbformat": 4,
 "nbformat_minor": 1
}
