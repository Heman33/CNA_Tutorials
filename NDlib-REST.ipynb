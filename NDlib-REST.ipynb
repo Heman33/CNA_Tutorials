{
 "cells": [
  {
   "cell_type": "markdown",
   "metadata": {},
   "source": [
    "<span>\n",
    "<img src=\"http://ndlib.readthedocs.io/en/latest/_static/ndlogo2.png\" width=\"240px\" align=\"right\"/>\n",
    "</span>\n",
    "<span>\n",
    "<b>Author:</b> <a href=\"http://about.giuliorossetti.net\">Giulio Rossetti</a><br/>\n",
    "<b>Python version:</b>  3.6<br/>\n",
    "<b>NDlib version:</b>  4.0.1<br/>\n",
    "<b>Last update:</b> 25/09/2018\n",
    "</span>"
   ]
  },
  {
   "cell_type": "markdown",
   "metadata": {},
   "source": [
    "<a id='top'></a>\n",
    "# *Intro to NDlib-REST: Remote experiment definition and execution*\n",
    "\n",
    "[``NDlib``](http://ndlib.readthedocs.io) is a python library designed to provide support to analysis of diffusive phenomena occurring on top of complex network structures.\n",
    "\n",
    "[``NDlib-REST``](http://ndlib.readthedocs.io/en/latest/rest/ndlib-rest.html) is a restful server that allows to decouple experiment definition (client side) and execution (server side). \n",
    "\n",
    "In this notebook is introduced the python endpoint workflow to setup a diffusion experiment using the [``NDlib-REST``](http://ndlib.readthedocs.io/en/latest/rest/ndlib-rest.html) API.\n",
    "\n",
    "**Note:** this notebook is purposely not 100% comprehensive, it only discusses the basic things you need to get started."
   ]
  },
  {
   "cell_type": "markdown",
   "metadata": {},
   "source": [
    "## Table of Contents\n",
    "\n",
    "1. [Setup the Experiment Server](#install)\n",
    "2. [Experiment definition and execution](#workflow)"
   ]
  },
  {
   "cell_type": "markdown",
   "metadata": {},
   "source": [
    "<a id='install'></a>\n",
    "## 1. Setup the Experiment Server ([to top](#top))"
   ]
  },
  {
   "cell_type": "markdown",
   "metadata": {},
   "source": [
    "**1)** Move to the working directory"
   ]
  },
  {
   "cell_type": "code",
   "execution_count": 7,
   "metadata": {},
   "outputs": [],
   "source": [
    "!rm -rf ndlib-rest"
   ]
  },
  {
   "cell_type": "markdown",
   "metadata": {},
   "source": [
    "**2)** Clone the ``NDlib-REST`` server project from the project [GitHub](https://github.com/GiulioRossetti/ndlib-rest) "
   ]
  },
  {
   "cell_type": "code",
   "execution_count": 8,
   "metadata": {},
   "outputs": [
    {
     "name": "stdout",
     "output_type": "stream",
     "text": [
      "Cloning into 'ndlib-rest'...\n",
      "remote: Enumerating objects: 3, done.\u001b[K\n",
      "remote: Counting objects: 100% (3/3), done.\u001b[K\n",
      "remote: Compressing objects: 100% (3/3), done.\u001b[K\n",
      "remote: Total 1319 (delta 0), reused 0 (delta 0), pack-reused 1316\u001b[K \n",
      "Ricezione degli oggetti: 100% (1319/1319), 8.20 MiB | 504.00 KiB/s, done.\n",
      "Risoluzione dei delta: 100% (752/752), done.\n"
     ]
    }
   ],
   "source": [
    "!git clone https://github.com/GiulioRossetti/ndlib-rest.git > /dev/null"
   ]
  },
  {
   "cell_type": "markdown",
   "metadata": {},
   "source": [
    "**3)** Start the REST server"
   ]
  },
  {
   "cell_type": "code",
   "execution_count": 9,
   "metadata": {
    "scrolled": false
   },
   "outputs": [
    {
     "name": "stdout",
     "output_type": "stream",
     "text": [
      "/home/rossetti/git/CNA_Tutorials/ndlib-rest/ndlib-rest\n"
     ]
    },
    {
     "data": {
      "text/plain": [
       "0"
      ]
     },
     "execution_count": 9,
     "metadata": {},
     "output_type": "execute_result"
    }
   ],
   "source": [
    "%cd ndlib-rest/\n",
    "import subprocess as sub\n",
    "sub.call('./gunicorn.sh', shell=True)"
   ]
  },
  {
   "cell_type": "markdown",
   "metadata": {},
   "source": [
    "<a id='workflow'></a>\n",
    "## 2. Client for remote experiment setup ([to top](#top))"
   ]
  },
  {
   "cell_type": "markdown",
   "metadata": {},
   "source": [
    "``NDlibClient``, installed along with the REST server, provides a python wrapper around the endpont calls offered by ``NDlib-REST``. <br/>\n",
    "\n",
    "For endpoint parameters specs refer to the <a href=\"/docs\">Service API</a>."
   ]
  },
  {
   "cell_type": "code",
   "execution_count": 10,
   "metadata": {},
   "outputs": [],
   "source": [
    "from client.NDlibClient import NDlibClient"
   ]
  },
  {
   "cell_type": "markdown",
   "metadata": {},
   "source": [
    "**1)** Specify the base url of the server exposing the rest API"
   ]
  },
  {
   "cell_type": "code",
   "execution_count": 11,
   "metadata": {},
   "outputs": [],
   "source": [
    "exp = NDlibClient(\"http://127.0.0.1:5000\")"
   ]
  },
  {
   "cell_type": "markdown",
   "metadata": {},
   "source": [
    "**2)** Create an experiment"
   ]
  },
  {
   "cell_type": "code",
   "execution_count": 12,
   "metadata": {},
   "outputs": [],
   "source": [
    "exp.create_experiment()"
   ]
  },
  {
   "cell_type": "markdown",
   "metadata": {},
   "source": [
    "**3)** Add a graph resource to the experiment"
   ]
  },
  {
   "cell_type": "code",
   "execution_count": 13,
   "metadata": {},
   "outputs": [],
   "source": [
    "resp = exp.add_erdos_renyi_graph(1000, 0.1)"
   ]
  },
  {
   "cell_type": "markdown",
   "metadata": {},
   "source": [
    "**4)** Add one or more diffusion models to the experiment"
   ]
  },
  {
   "cell_type": "code",
   "execution_count": 14,
   "metadata": {},
   "outputs": [],
   "source": [
    "resp = exp.add_SIR(infected=0.01, beta=0.001, gamma=0.09)"
   ]
  },
  {
   "cell_type": "markdown",
   "metadata": {},
   "source": [
    "**5)** Execute the simulation"
   ]
  },
  {
   "cell_type": "code",
   "execution_count": 15,
   "metadata": {},
   "outputs": [],
   "source": [
    "it = exp.get_iteration_bunch(bunch=15)"
   ]
  },
  {
   "cell_type": "markdown",
   "metadata": {},
   "source": [
    "**6)** Analyze the results"
   ]
  },
  {
   "cell_type": "code",
   "execution_count": 16,
   "metadata": {},
   "outputs": [],
   "source": [
    "models = it.keys()"
   ]
  },
  {
   "cell_type": "code",
   "execution_count": 17,
   "metadata": {},
   "outputs": [
    {
     "name": "stdout",
     "output_type": "stream",
     "text": [
      "Model: SIR_0\n",
      "\n",
      "Iteration: 0\t Infected: 10\t Susceptible: 990\t Removed: 0\n",
      "Iteration: 1\t Infected: 7\t Susceptible: 990\t Removed: 3\n",
      "Iteration: 2\t Infected: 7\t Susceptible: 990\t Removed: 3\n",
      "Iteration: 3\t Infected: 6\t Susceptible: 990\t Removed: 4\n",
      "Iteration: 4\t Infected: 7\t Susceptible: 989\t Removed: 4\n",
      "Iteration: 5\t Infected: 8\t Susceptible: 988\t Removed: 4\n",
      "Iteration: 6\t Infected: 8\t Susceptible: 987\t Removed: 5\n",
      "Iteration: 7\t Infected: 8\t Susceptible: 987\t Removed: 5\n",
      "Iteration: 8\t Infected: 9\t Susceptible: 984\t Removed: 7\n",
      "Iteration: 9\t Infected: 10\t Susceptible: 982\t Removed: 8\n",
      "Iteration: 10\t Infected: 13\t Susceptible: 979\t Removed: 8\n",
      "Iteration: 11\t Infected: 11\t Susceptible: 979\t Removed: 10\n",
      "Iteration: 12\t Infected: 13\t Susceptible: 975\t Removed: 12\n",
      "Iteration: 13\t Infected: 12\t Susceptible: 974\t Removed: 14\n",
      "Iteration: 14\t Infected: 12\t Susceptible: 972\t Removed: 16\n"
     ]
    }
   ],
   "source": [
    "for m in models:\n",
    "    print(\"Model: %s\\n\" % m)\n",
    "    for i in range(0, len(it[m])):\n",
    "        print(\"Iteration: %s\\t Infected: %s\\t Susceptible: %s\\t Removed: %s\" % (it[m][i]['iteration'], \n",
    "         it[m][i]['node_count']['1'], \n",
    "         it[m][i]['node_count']['0'], \n",
    "         it[m][i]['node_count']['2']))"
   ]
  },
  {
   "cell_type": "markdown",
   "metadata": {},
   "source": [
    "**7)** Destroy the experiment and free the assigned resources"
   ]
  },
  {
   "cell_type": "code",
   "execution_count": 18,
   "metadata": {},
   "outputs": [],
   "source": [
    "resp = exp.destroy_experiment()"
   ]
  },
  {
   "cell_type": "code",
   "execution_count": null,
   "metadata": {
    "collapsed": true
   },
   "outputs": [],
   "source": []
  }
 ],
 "metadata": {
  "kernelspec": {
   "display_name": "Python 3",
   "language": "python",
   "name": "python3"
  },
  "language_info": {
   "codemirror_mode": {
    "name": "ipython",
    "version": 3
   },
   "file_extension": ".py",
   "mimetype": "text/x-python",
   "name": "python",
   "nbconvert_exporter": "python",
   "pygments_lexer": "ipython3",
   "version": "3.6.6"
  }
 },
 "nbformat": 4,
 "nbformat_minor": 1
}
