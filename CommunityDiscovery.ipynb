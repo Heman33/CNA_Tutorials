{
 "cells": [
  {
   "cell_type": "markdown",
   "metadata": {},
   "source": [
    "<b>Author:</b> <a href=\"http://about.giuliorossetti.net\">Giulio Rossetti</a><br/>\n",
    "<b>Python version:</b>  3.6<br/>\n",
    "<b>Packages:</b> networkx>2.x, python-louvain, demon, pquality <br/>\n",
    "<b>Last update:</b> 15/02/2018\n",
    "</span>"
   ]
  },
  {
   "cell_type": "markdown",
   "metadata": {},
   "source": [
    "<a id='top'></a>\n",
    "# *Intro to Community Discovery*\n",
    "\n",
    "**Note:** this notebook is purposely not 100% comprehensive, it only discusses the basic things you need to get started."
   ]
  },
  {
   "cell_type": "code",
   "execution_count": 1,
   "metadata": {},
   "outputs": [],
   "source": [
    "import networkx as nx"
   ]
  },
  {
   "cell_type": "code",
   "execution_count": 2,
   "metadata": {},
   "outputs": [],
   "source": [
    "g = nx.karate_club_graph()"
   ]
  },
  {
   "cell_type": "code",
   "execution_count": 3,
   "metadata": {},
   "outputs": [],
   "source": [
    "from networkx.algorithms import community"
   ]
  },
  {
   "cell_type": "markdown",
   "metadata": {},
   "source": [
    "# Community Discovery Algorithms"
   ]
  },
  {
   "cell_type": "markdown",
   "metadata": {},
   "source": [
    "### A. Girvan-Newman"
   ]
  },
  {
   "cell_type": "code",
   "execution_count": 4,
   "metadata": {},
   "outputs": [],
   "source": [
    "gn_hierarchy = community.girvan_newman(g)"
   ]
  },
  {
   "cell_type": "code",
   "execution_count": 5,
   "metadata": {},
   "outputs": [
    {
     "data": {
      "text/plain": [
       "[(0, 1, 3, 4, 5, 6, 7, 10, 11, 12, 13, 16, 17, 19, 21),\n",
       " (32, 33, 2, 8, 9, 14, 15, 18, 20, 22, 23, 24, 25, 26, 27, 28, 29, 30, 31)]"
      ]
     },
     "execution_count": 5,
     "metadata": {},
     "output_type": "execute_result"
    }
   ],
   "source": [
    "[tuple(x) for x in next(gn_hierarchy)]"
   ]
  },
  {
   "cell_type": "code",
   "execution_count": 6,
   "metadata": {},
   "outputs": [
    {
     "data": {
      "text/plain": [
       "[(0, 1, 3, 4, 5, 6, 7, 10, 11, 12, 13, 16, 17, 19, 21),\n",
       " (32, 33, 2, 8, 14, 15, 18, 20, 22, 23, 24, 25, 26, 27, 28, 29, 30, 31),\n",
       " (9,)]"
      ]
     },
     "execution_count": 6,
     "metadata": {},
     "output_type": "execute_result"
    }
   ],
   "source": [
    "[tuple(x) for x in next(gn_hierarchy)]"
   ]
  },
  {
   "cell_type": "code",
   "execution_count": 7,
   "metadata": {},
   "outputs": [
    {
     "data": {
      "text/plain": [
       "[(0, 1, 3, 7, 11, 12, 13, 17, 19, 21),\n",
       " (32, 33, 2, 8, 14, 15, 18, 20, 22, 23, 24, 25, 26, 27, 28, 29, 30, 31),\n",
       " (4, 5, 6, 10, 16),\n",
       " (9,)]"
      ]
     },
     "execution_count": 7,
     "metadata": {},
     "output_type": "execute_result"
    }
   ],
   "source": [
    "[tuple(x) for x in next(gn_hierarchy)]"
   ]
  },
  {
   "cell_type": "code",
   "execution_count": 8,
   "metadata": {},
   "outputs": [
    {
     "data": {
      "text/plain": [
       "[(0, 1, 3, 7, 11, 12, 13, 17, 19, 21),\n",
       " (2, 24, 25, 27, 28, 31),\n",
       " (4, 5, 6, 10, 16),\n",
       " (32, 33, 8, 14, 15, 18, 20, 22, 23, 26, 29, 30),\n",
       " (9,)]"
      ]
     },
     "execution_count": 8,
     "metadata": {},
     "output_type": "execute_result"
    }
   ],
   "source": [
    "[tuple(x) for x in next(gn_hierarchy)]"
   ]
  },
  {
   "cell_type": "markdown",
   "metadata": {},
   "source": [
    "### B. K-Cliques"
   ]
  },
  {
   "cell_type": "code",
   "execution_count": 9,
   "metadata": {},
   "outputs": [
    {
     "data": {
      "text/plain": [
       "[(0, 1, 2, 3, 7, 13), (32, 33, 8, 30), (32, 33, 29, 23)]"
      ]
     },
     "execution_count": 9,
     "metadata": {},
     "output_type": "execute_result"
    }
   ],
   "source": [
    "kclique4 = list(community.k_clique_communities(g, 4))\n",
    "kclique4 = [tuple(x) for x in kclique4]\n",
    "kclique4"
   ]
  },
  {
   "cell_type": "code",
   "execution_count": 10,
   "metadata": {},
   "outputs": [
    {
     "data": {
      "text/plain": [
       "[(0, 1, 2, 3, 7, 13)]"
      ]
     },
     "execution_count": 10,
     "metadata": {},
     "output_type": "execute_result"
    }
   ],
   "source": [
    "kclique5 = list(community.k_clique_communities(g, 5))\n",
    "kclique5 = [tuple(x) for x in kclique5]\n",
    "kclique5"
   ]
  },
  {
   "cell_type": "markdown",
   "metadata": {},
   "source": [
    "### C. Louvain"
   ]
  },
  {
   "cell_type": "code",
   "execution_count": 21,
   "metadata": {},
   "outputs": [
    {
     "name": "stdout",
     "output_type": "stream",
     "text": [
      "Requirement already satisfied: python-louvain in /home/rossetti/anaconda3/lib/python3.6/site-packages (0.10)\n",
      "Requirement already satisfied: networkx in /home/rossetti/anaconda3/lib/python3.6/site-packages (from python-louvain) (2.1)\n",
      "Requirement already satisfied: decorator>=4.1.0 in /home/rossetti/anaconda3/lib/python3.6/site-packages (from networkx->python-louvain) (4.2.1)\n"
     ]
    }
   ],
   "source": [
    "! pip install python-louvain"
   ]
  },
  {
   "cell_type": "code",
   "execution_count": 11,
   "metadata": {},
   "outputs": [],
   "source": [
    "import community as louvain\n",
    "from collections import defaultdict"
   ]
  },
  {
   "cell_type": "code",
   "execution_count": 12,
   "metadata": {},
   "outputs": [
    {
     "data": {
      "text/plain": [
       "[(0, 1, 2, 3, 7, 9, 11, 12, 13, 17, 19, 21),\n",
       " (4, 5, 6, 10, 16),\n",
       " (8, 14, 15, 18, 20, 22, 26, 29, 30, 32, 33),\n",
       " (23, 24, 25, 27, 28, 31)]"
      ]
     },
     "execution_count": 12,
     "metadata": {},
     "output_type": "execute_result"
    }
   ],
   "source": [
    "coms = louvain.best_partition(g)\n",
    "coms_to_node = defaultdict(list)\n",
    "for n, c in coms.items():\n",
    "    coms_to_node[c].append(n)\n",
    "\n",
    "coms = [tuple(c) for c in coms_to_node.values()]\n",
    "coms"
   ]
  },
  {
   "cell_type": "markdown",
   "metadata": {},
   "source": [
    "### D. Label Propagation"
   ]
  },
  {
   "cell_type": "code",
   "execution_count": 13,
   "metadata": {},
   "outputs": [
    {
     "data": {
      "text/plain": [
       "[(32, 33, 2, 8, 9, 14, 15, 18, 20, 22, 23, 26, 27, 28, 29, 30),\n",
       " (16, 5, 6),\n",
       " (0, 1, 3, 4, 7, 10, 11, 12, 13, 17, 19, 21, 24, 25, 31)]"
      ]
     },
     "execution_count": 13,
     "metadata": {},
     "output_type": "execute_result"
    }
   ],
   "source": [
    "lp = list(community.label_propagation_communities(g))\n",
    "lp = [tuple(x) for x in lp]\n",
    "lp"
   ]
  },
  {
   "cell_type": "markdown",
   "metadata": {},
   "source": [
    "### E. Demon"
   ]
  },
  {
   "cell_type": "code",
   "execution_count": 19,
   "metadata": {},
   "outputs": [
    {
     "name": "stdout",
     "output_type": "stream",
     "text": [
      "Requirement already satisfied: demon in /home/rossetti/anaconda3/lib/python3.6/site-packages (2.0.3)\n",
      "Requirement already satisfied: networkx in /home/rossetti/anaconda3/lib/python3.6/site-packages (from demon) (2.1)\n",
      "Requirement already satisfied: future in /home/rossetti/anaconda3/lib/python3.6/site-packages (from demon) (0.16.0)\n",
      "Requirement already satisfied: decorator>=4.1.0 in /home/rossetti/anaconda3/lib/python3.6/site-packages (from networkx->demon) (4.2.1)\n"
     ]
    }
   ],
   "source": [
    "! pip install demon"
   ]
  },
  {
   "cell_type": "code",
   "execution_count": 14,
   "metadata": {},
   "outputs": [
    {
     "name": "stderr",
     "output_type": "stream",
     "text": [
      "Exec: 100%|████████████████████████"
     ]
    },
    {
     "name": "stdout",
     "output_type": "stream",
     "text": [
      "Time:  'execute' 0.03 sec\n",
      "------------------------------------\n"
     ]
    },
    {
     "name": "stderr",
     "output_type": "stream",
     "text": [
      "\n"
     ]
    },
    {
     "data": {
      "text/plain": [
       "[(0, 4, 5, 6, 10, 16),\n",
       " (0, 1, 2, 3, 7, 8, 12, 13, 17, 19, 21, 30, 32, 33),\n",
       " (2, 8, 14, 15, 18, 20, 22, 23, 26, 27, 28, 29, 30, 31, 32, 33)]"
      ]
     },
     "execution_count": 14,
     "metadata": {},
     "output_type": "execute_result"
    }
   ],
   "source": [
    "import demon as dm\n",
    "d = dm.Demon(graph=g, min_community_size=3,epsilon=0.5)\n",
    "coms = d.execute()\n",
    "coms"
   ]
  },
  {
   "cell_type": "markdown",
   "metadata": {},
   "source": [
    "# 2. Evaluate partition quality"
   ]
  },
  {
   "cell_type": "markdown",
   "metadata": {},
   "source": [
    "We will use the *pquality* package that implements the community quality functions described in:\n",
    "```\n",
    "Yang, Jaewon, and Jure Leskovec. \n",
    "\"Defining and evaluating network communities based on ground-truth.\"  Knowledge and Information Systems 42.1 (2015): 181-213.\n",
    "```"
   ]
  },
  {
   "cell_type": "code",
   "execution_count": 22,
   "metadata": {},
   "outputs": [
    {
     "name": "stdout",
     "output_type": "stream",
     "text": [
      "Requirement already satisfied: pquality in /home/rossetti/anaconda3/lib/python3.6/site-packages (0.0.6)\n",
      "Requirement already satisfied: networkx in /home/rossetti/anaconda3/lib/python3.6/site-packages (from pquality) (2.1)\n",
      "Requirement already satisfied: numpy in /home/rossetti/anaconda3/lib/python3.6/site-packages (from pquality) (1.14.0)\n",
      "Requirement already satisfied: pandas in /home/rossetti/anaconda3/lib/python3.6/site-packages (from pquality) (0.22.0)\n",
      "Requirement already satisfied: decorator>=4.1.0 in /home/rossetti/anaconda3/lib/python3.6/site-packages (from networkx->pquality) (4.2.1)\n",
      "Requirement already satisfied: python-dateutil>=2 in /home/rossetti/anaconda3/lib/python3.6/site-packages (from pandas->pquality) (2.6.1)\n",
      "Requirement already satisfied: pytz>=2011k in /home/rossetti/anaconda3/lib/python3.6/site-packages (from pandas->pquality) (2017.3)\n",
      "Requirement already satisfied: six>=1.5 in /home/rossetti/anaconda3/lib/python3.6/site-packages (from python-dateutil>=2->pandas->pquality) (1.11.0)\n"
     ]
    }
   ],
   "source": [
    "! pip install pquality"
   ]
  },
  {
   "cell_type": "code",
   "execution_count": 15,
   "metadata": {},
   "outputs": [],
   "source": [
    "import pquality"
   ]
  },
  {
   "cell_type": "code",
   "execution_count": 17,
   "metadata": {},
   "outputs": [
    {
     "data": {
      "text/html": [
       "<div>\n",
       "<style scoped>\n",
       "    .dataframe tbody tr th:only-of-type {\n",
       "        vertical-align: middle;\n",
       "    }\n",
       "\n",
       "    .dataframe tbody tr th {\n",
       "        vertical-align: top;\n",
       "    }\n",
       "\n",
       "    .dataframe thead th {\n",
       "        text-align: right;\n",
       "    }\n",
       "</style>\n",
       "<table border=\"1\" class=\"dataframe\">\n",
       "  <thead>\n",
       "    <tr style=\"text-align: right;\">\n",
       "      <th></th>\n",
       "      <th>min</th>\n",
       "      <th>max</th>\n",
       "      <th>avg</th>\n",
       "      <th>std</th>\n",
       "    </tr>\n",
       "    <tr>\n",
       "      <th>Index</th>\n",
       "      <th></th>\n",
       "      <th></th>\n",
       "      <th></th>\n",
       "      <th></th>\n",
       "    </tr>\n",
       "  </thead>\n",
       "  <tbody>\n",
       "    <tr>\n",
       "      <th>Internal Density</th>\n",
       "      <td>0.068750</td>\n",
       "      <td>0.166667</td>\n",
       "      <td>0.109608</td>\n",
       "      <td>0.041583</td>\n",
       "    </tr>\n",
       "    <tr>\n",
       "      <th>Edges inside</th>\n",
       "      <td>10.000000</td>\n",
       "      <td>34.000000</td>\n",
       "      <td>25.666667</td>\n",
       "      <td>11.085526</td>\n",
       "    </tr>\n",
       "    <tr>\n",
       "      <th>Average Degree</th>\n",
       "      <td>3.333333</td>\n",
       "      <td>4.857143</td>\n",
       "      <td>4.105159</td>\n",
       "      <td>0.622251</td>\n",
       "    </tr>\n",
       "    <tr>\n",
       "      <th>FOMD</th>\n",
       "      <td>0.714286</td>\n",
       "      <td>0.937500</td>\n",
       "      <td>0.828373</td>\n",
       "      <td>0.091194</td>\n",
       "    </tr>\n",
       "    <tr>\n",
       "      <th>TPR</th>\n",
       "      <td>1.000000</td>\n",
       "      <td>1.000000</td>\n",
       "      <td>1.000000</td>\n",
       "      <td>0.000000</td>\n",
       "    </tr>\n",
       "    <tr>\n",
       "      <th>Expansion</th>\n",
       "      <td>1.000000</td>\n",
       "      <td>2.071429</td>\n",
       "      <td>1.690476</td>\n",
       "      <td>0.489110</td>\n",
       "    </tr>\n",
       "    <tr>\n",
       "      <th>Cut Ratio</th>\n",
       "      <td>0.055556</td>\n",
       "      <td>0.103571</td>\n",
       "      <td>0.076852</td>\n",
       "      <td>0.019974</td>\n",
       "    </tr>\n",
       "    <tr>\n",
       "      <th>Conductance</th>\n",
       "      <td>0.195122</td>\n",
       "      <td>0.375000</td>\n",
       "      <td>0.289697</td>\n",
       "      <td>0.073727</td>\n",
       "    </tr>\n",
       "    <tr>\n",
       "      <th>Normalized Cut</th>\n",
       "      <td>0.346065</td>\n",
       "      <td>0.546832</td>\n",
       "      <td>0.449660</td>\n",
       "      <td>0.082088</td>\n",
       "    </tr>\n",
       "    <tr>\n",
       "      <th>Maximum-ODF</th>\n",
       "      <td>6.000000</td>\n",
       "      <td>12.000000</td>\n",
       "      <td>10.000000</td>\n",
       "      <td>2.828427</td>\n",
       "    </tr>\n",
       "    <tr>\n",
       "      <th>Average-ODF</th>\n",
       "      <td>1.000000</td>\n",
       "      <td>2.071429</td>\n",
       "      <td>1.690476</td>\n",
       "      <td>0.489110</td>\n",
       "    </tr>\n",
       "    <tr>\n",
       "      <th>Flake-ODF</th>\n",
       "      <td>0.062500</td>\n",
       "      <td>0.166667</td>\n",
       "      <td>0.124008</td>\n",
       "      <td>0.044566</td>\n",
       "    </tr>\n",
       "  </tbody>\n",
       "</table>\n",
       "</div>"
      ],
      "text/plain": [
       "                        min        max        avg        std\n",
       "Index                                                       \n",
       "Internal Density   0.068750   0.166667   0.109608   0.041583\n",
       "Edges inside      10.000000  34.000000  25.666667  11.085526\n",
       "Average Degree     3.333333   4.857143   4.105159   0.622251\n",
       "FOMD               0.714286   0.937500   0.828373   0.091194\n",
       "TPR                1.000000   1.000000   1.000000   0.000000\n",
       "Expansion          1.000000   2.071429   1.690476   0.489110\n",
       "Cut Ratio          0.055556   0.103571   0.076852   0.019974\n",
       "Conductance        0.195122   0.375000   0.289697   0.073727\n",
       "Normalized Cut     0.346065   0.546832   0.449660   0.082088\n",
       "Maximum-ODF        6.000000  12.000000  10.000000   2.828427\n",
       "Average-ODF        1.000000   2.071429   1.690476   0.489110\n",
       "Flake-ODF          0.062500   0.166667   0.124008   0.044566"
      ]
     },
     "execution_count": 17,
     "metadata": {},
     "output_type": "execute_result"
    }
   ],
   "source": [
    "results = pquality.pquality_summary(g, coms)\n",
    "results['Indexes']"
   ]
  },
  {
   "cell_type": "code",
   "execution_count": 18,
   "metadata": {},
   "outputs": [
    {
     "data": {
      "text/html": [
       "<div>\n",
       "<style scoped>\n",
       "    .dataframe tbody tr th:only-of-type {\n",
       "        vertical-align: middle;\n",
       "    }\n",
       "\n",
       "    .dataframe tbody tr th {\n",
       "        vertical-align: top;\n",
       "    }\n",
       "\n",
       "    .dataframe thead th {\n",
       "        text-align: right;\n",
       "    }\n",
       "</style>\n",
       "<table border=\"1\" class=\"dataframe\">\n",
       "  <thead>\n",
       "    <tr style=\"text-align: right;\">\n",
       "      <th></th>\n",
       "      <th>value</th>\n",
       "    </tr>\n",
       "    <tr>\n",
       "      <th>Index</th>\n",
       "      <th></th>\n",
       "    </tr>\n",
       "  </thead>\n",
       "  <tbody>\n",
       "    <tr>\n",
       "      <th>Modularity (no overlap)</th>\n",
       "      <td>0.146573</td>\n",
       "    </tr>\n",
       "  </tbody>\n",
       "</table>\n",
       "</div>"
      ],
      "text/plain": [
       "                            value\n",
       "Index                            \n",
       "Modularity (no overlap)  0.146573"
      ]
     },
     "execution_count": 18,
     "metadata": {},
     "output_type": "execute_result"
    }
   ],
   "source": [
    "results['Modularity']"
   ]
  },
  {
   "cell_type": "code",
   "execution_count": null,
   "metadata": {},
   "outputs": [],
   "source": []
  }
 ],
 "metadata": {
  "kernelspec": {
   "display_name": "Python 3",
   "language": "python",
   "name": "python3"
  },
  "language_info": {
   "codemirror_mode": {
    "name": "ipython",
    "version": 3
   },
   "file_extension": ".py",
   "mimetype": "text/x-python",
   "name": "python",
   "nbconvert_exporter": "python",
   "pygments_lexer": "ipython3",
   "version": "3.6.4"
  }
 },
 "nbformat": 4,
 "nbformat_minor": 2
}
